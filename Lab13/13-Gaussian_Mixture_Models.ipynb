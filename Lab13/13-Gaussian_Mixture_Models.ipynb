{
 "cells": [
  {
   "cell_type": "markdown",
   "metadata": {},
   "source": [
    "# Matrix Operations\n",
    "\n",
    "## Multiplication\n",
    "\n",
    "Recall that an $nxm$ matrix A\n",
    "$$A = \n",
    "\\begin{bmatrix}\n",
    "a_{11} & ... & a_{1m}\\\\\n",
    "a_{21} & ... & a_{2m}\\\\\n",
    "... & ... & ...\\\\\n",
    "a_{n1} & ... & a_{nm}\n",
    "\\end{bmatrix}\n",
    "$$\n",
    "\n",
    "can be multipled by an $mxp$ matrix B (in other words - the number of columns of matrix A must match the number of rows in matrix B) \n",
    "\n",
    "$$B = \n",
    "\\begin{bmatrix}\n",
    "b_{11} & b_{12} & ... & b_{1p}\\\\\n",
    "... & ... & ... & ...\\\\\n",
    "b_{m1} & b_{m2} & ... & b_{mp}\n",
    "\\end{bmatrix}\n",
    "$$\n",
    "\n",
    "which will results in an $nxp$ matrix C\n",
    "$$AB = C = \n",
    "\\begin{bmatrix}\n",
    "c_{11} & c_{12} & ... & c_{1p}\\\\\n",
    "c_{21} & c_{22} & ... & c_{2p}\\\\\n",
    "... & ... & ... & ...\\\\\n",
    "c_{n1} & c_{n2} & ... & c_{np}\n",
    "\\end{bmatrix}\n",
    "$$\n",
    "\n",
    "where the elements of C are defined as $c_{ij} = a_{i1}b_{1j} + a_{i2}b_{2j} + ... + a_{in}b_{nj}$. \n",
    "\n",
    "### Example\n",
    "\n",
    "<span style=\"color:red\">**Fill in the matrix below by replacing the question marks**</span>.\n",
    "\n",
    "$$\\begin{bmatrix} \n",
    "2 & 3 \\\\\n",
    "1 & 1 \\\\\n",
    "3 & 2 \n",
    "\\end{bmatrix}\n",
    "\\begin{bmatrix} \n",
    "1 & 1 & 3 \\\\\n",
    "2 & 3 & 2 \n",
    "\\end{bmatrix}\n",
    "=\n",
    "\\begin{bmatrix} \n",
    "? & ? & ? \\\\\n",
    "? & ? & ? \\\\\n",
    "? & ? & ?\n",
    "\\end{bmatrix}\n",
    "$$\n",
    "\n"
   ]
  },
  {
   "cell_type": "code",
   "execution_count": null,
   "metadata": {},
   "outputs": [],
   "source": []
  },
  {
   "cell_type": "markdown",
   "metadata": {},
   "source": [
    "**Question** \n",
    "\n",
    "Is AB = BA?\n",
    "\n",
    "<span style=\"color:red\">**Report the matrix BA using the above matrices (assume the first is A, and the second is B). You can either do this in Markdown or pass it as a variable and creating a matrix object.**</span>\n",
    "\n"
   ]
  },
  {
   "cell_type": "markdown",
   "metadata": {},
   "source": [
    "## Transposition\n",
    "\n",
    "The transpose of a matrix is the act of switching the rows and the columns such that each value at position $ij$ is moved to position $ji$: $\\Big[A^T\\Big]_{ij} = \\Big[A\\Big]_{ji}$\n",
    "\n",
    "### Example\n",
    "\n",
    "$$\n",
    "\\begin{bmatrix}\n",
    "2 & 3 \\\\\n",
    "1 & 1 \\\\\n",
    "3 & 2 \n",
    "\\end{bmatrix}^ T\n",
    "=\n",
    "\\begin{bmatrix}\n",
    "2 & 1 & 3 \\\\\n",
    "3 & 1 & 2\n",
    "\\end{bmatrix}\n",
    "$$"
   ]
  },
  {
   "cell_type": "code",
   "execution_count": null,
   "metadata": {},
   "outputs": [],
   "source": [
    "t(A)"
   ]
  },
  {
   "cell_type": "markdown",
   "metadata": {},
   "source": [
    "## Identity Matrix"
   ]
  },
  {
   "cell_type": "code",
   "execution_count": null,
   "metadata": {},
   "outputs": [],
   "source": [
    "diag(4)"
   ]
  },
  {
   "cell_type": "code",
   "execution_count": null,
   "metadata": {},
   "outputs": [],
   "source": [
    "diag(nrow(A))%*%A"
   ]
  },
  {
   "cell_type": "code",
   "execution_count": null,
   "metadata": {},
   "outputs": [],
   "source": [
    "A%*%diag(ncol(A))"
   ]
  },
  {
   "cell_type": "markdown",
   "metadata": {},
   "source": [
    "## Determinant\n",
    "\n",
    "The determinant of a *square* matrix A, det(A) is the amount by which a space or area will be scaled when transformed (mulitplied) by A. \n",
    "\n",
    "For a $2x2$ matrix, the determinant is: $det(\\begin{bmatrix} a_{11} & a_{12} \\\\ a_{21} & a_{22}\\end{bmatrix}) = a_{11}a_{22} - a_{12}a_{21}$.\n",
    "\n",
    "### Example\n",
    "\n",
    "<span style=\"color:red\">**Find the determinant of the matrix below, and replace the question mark with your answer**</span>.\n",
    "\n",
    "$$det(\n",
    "\\begin{bmatrix}\n",
    "4 & 1\\\\\n",
    "3 & 2\n",
    "\\end{bmatrix})\n",
    "= ?\n",
    "$$"
   ]
  },
  {
   "cell_type": "markdown",
   "metadata": {},
   "source": [
    "What about matrices larger than $2x2$?\n",
    "\n",
    "$$det(\n",
    "\\begin{bmatrix}\n",
    "4 & 1 & 2\\\\\n",
    "3 & 2 & 1\\\\\n",
    "1 & 1 & 3\n",
    "\\end{bmatrix})\n",
    "= ?\n",
    "$$\n",
    "\n",
    "This requires **minors** and **cofactors**.\n",
    "\n",
    "**minors** - A minor for any element is the determinant that results when the row and column that element are in are deleted. The notation $M_{ij}$ is used to stand for the minor of the element in row $i$ and column $j$.\n",
    "\n",
    "In the above matrix, $M_{21} = det(\\begin{bmatrix} 1 & 2 \\\\ 1 & 3 \\end{bmatrix}) = 3 - 2 = 1$\n",
    "\n",
    "**cofactors** - A cofactor for any element is either the minor or the opposite of the minor, depending on where the element is in the original determinant. If the row and column of the element add up to be an even number, then the cofactor is the same as the minor. If the row and column of the element add up to be an odd number, then the cofactor is the opposite of the minor.\n",
    "\n",
    "You can think of the above matrix as a matrix of $+$ and $-$.\n",
    "$$\n",
    "\\begin{bmatrix}\n",
    "+ & - & +\\\\\n",
    "- & + & -\\\\\n",
    "+ & - & +\n",
    "\\end{bmatrix}\n",
    "$$\n",
    "The cofactor $C_{ij}$ is the product of the element in row $i$ column $j$, the sign of the element in row $i$ column $j$, and the element's minor.\n",
    "\n",
    "In the above matrix, $C_{21} = 3 \\times -1 \\times det(\\begin{bmatrix} 1 & 2 \\\\ 1 & 3 \\end{bmatrix}) = 3(-1)(3-2) = -3$.\n",
    "\n",
    "Finally, the steps for calculating the determinant of a square matrix larger than $2x2$ are:\n",
    "* Pick a row, any row\n",
    "* Calculate the sum of cofactors\n",
    "\n",
    "$$det(\n",
    "\\begin{bmatrix}\n",
    "4 & 1 & 2\\\\\n",
    "3 & 2 & 1\\\\\n",
    "1 & 1 & 3\n",
    "\\end{bmatrix})\n",
    "= ?\n",
    "$$\n",
    "\n",
    "Let's calculate the determinant of the above matrix using the first row:\n",
    "\n",
    "$$det(\n",
    "\\begin{bmatrix}\n",
    "4 & 1 & 2\\\\\n",
    "3 & 2 & 1\\\\\n",
    "1 & 1 & 3\n",
    "\\end{bmatrix})\n",
    "=\n",
    "C_{11} + C_{12} + C_{13}\n",
    "$$\n",
    "\n",
    "$C_{11} = 4 \\times det(\\begin{bmatrix} 2 & 1\\\\ 1 & 3\\end{bmatrix} = 20$\n",
    "\n",
    "$C_{12} = 1 \\times -1 \\times det(\\begin{bmatrix} 3 & 1\\\\ 1 & 3\\end{bmatrix} = -8$\n",
    "\n",
    "$C_{13} = 2 \\times det(\\begin{bmatrix} 3 & 2\\\\ 1 & 1\\end{bmatrix} = 2$\n",
    "\n",
    "$ C_{11} + C_{12} + C_{13} = 14$"
   ]
  },
  {
   "cell_type": "markdown",
   "metadata": {},
   "source": [
    "Try one of the other rows on your own. <span style=\"color:red\">**Show your work for one of the other rows as shown above (specifically, the calculation and summation of each of the cofactors). This can be done in either Markdown or passing the equations to objects**</span>."
   ]
  },
  {
   "cell_type": "code",
   "execution_count": null,
   "metadata": {},
   "outputs": [],
   "source": []
  },
  {
   "cell_type": "markdown",
   "metadata": {},
   "source": [
    "# GMMs"
   ]
  },
  {
   "cell_type": "code",
   "execution_count": null,
   "metadata": {},
   "outputs": [],
   "source": [
    "library(mclust)"
   ]
  },
  {
   "cell_type": "markdown",
   "metadata": {},
   "source": [
    "The gaussian mixture model (GMM) is a modeling technique that uses a probability distribution to estimate the likelihood of a given point in a continuous set. For the GMM, we assume that our classes bear the markings of a normally distributed density function. When the two classes are clearly defined, the guassian distribution works well as an estimate for class-conditional probabilties."
   ]
  },
  {
   "cell_type": "markdown",
   "metadata": {},
   "source": [
    "First we'll be implementing our own GMM to gain a basic understanding of the underlying algorithms in built-in packages. "
   ]
  },
  {
   "cell_type": "markdown",
   "metadata": {},
   "source": [
    "GMMs utilize the **Expectation-Maximization (EM) algorithm**. \n",
    "\n",
    "Step 1: Expectation Step (E-Step) - also known as responsibility\n",
    "\n",
    "$$r_{ic} = \\frac{\\pi_cN(x_i | \\mu_c,\\Sigma_c)}{\\sum_{c'}\\pi_{c'}N(x_i | \\mu_{c'},\\Sigma_{c'})}$$"
   ]
  },
  {
   "cell_type": "markdown",
   "metadata": {},
   "source": [
    "The normal distribution can take on a univariate or multivariate form. For the examples below, I will use the multivariate form:\n",
    "\n",
    "$$N(\\mu_k, \\Sigma_k) = \\frac{e^{-\\frac{1}{2}(x_i-\\mu_k)^T \\Sigma^{-1} (x_i-\\mu_k) }}{\\sqrt{|2\\pi\\Sigma|}}$$"
   ]
  },
  {
   "cell_type": "code",
   "execution_count": null,
   "metadata": {},
   "outputs": [],
   "source": [
    "# Multivariate Normal PDF Function Given a matrix x, mu (mean), and\n",
    "# sigma (covariance), we can calculate the probability density for each\n",
    "# row using the apply function. The function returns a column vector of\n",
    "# probabilities.\n",
    "\n",
    "mvpdf <- function(x, mu, sigma) {\n",
    "    if (det(sigma) == 0) {\n",
    "        warning(\"Determinant is equal to 0.\")\n",
    "    }\n",
    "    apply(x, 1, function(x) exp(-(1/2) * (t(x) - mu) %*% MASS::ginv(sigma) %*% \n",
    "        t(t(x) - mu))/sqrt(det(2 * pi * sigma)))\n",
    "}"
   ]
  },
  {
   "cell_type": "code",
   "execution_count": null,
   "metadata": {},
   "outputs": [],
   "source": [
    "# Plot our dataset.\n",
    "plot(iris[, 1:4], col = iris$Species, pch = 18, main = \"Fisher's Iris Dataset\")"
   ]
  },
  {
   "cell_type": "markdown",
   "metadata": {},
   "source": [
    "**Initialization**"
   ]
  },
  {
   "cell_type": "code",
   "execution_count": null,
   "metadata": {},
   "outputs": [],
   "source": [
    "# Mclust comes with a method of hierarchical clustering. We'll\n",
    "# initialize 3 different classes.\n",
    "initialk <- mclust::hc(data = iris, modelName = \"EII\")\n",
    "initialk <- mclust::hclass(initialk, 3) # choosing the solution corresponding to k=3\n",
    "\n",
    "# First split by class and calculate column-means for each class.\n",
    "mu <- split(iris[, 1:4], initialk)\n",
    "mu <- t(sapply(mu, colMeans))\n",
    "mu\n",
    "\n",
    "# Covariance Matrix for each initial class.\n",
    "cov <- list(diag(4), diag(4), diag(4))\n",
    "\n",
    "# Mixing Components\n",
    "a <- runif(3)\n",
    "a <- a/sum(a) #such that the mixing components sum to 1\n",
    "a"
   ]
  },
  {
   "cell_type": "markdown",
   "metadata": {},
   "source": [
    "**Maximization**\n",
    "\n",
    "Once the e-step has been completed, we need to maximize our results. Listed below is each equation we use during the maximization step:\n",
    "\n",
    "* $$m_c = \\Sigma_i r_{ic}$$ \n",
    "* $$\\pi_c = \\frac{m_c}{N}$$\n",
    "* $$\\mu_c = \\frac{1}{m_c} \\sum_i{r_{ic}x_i}$$\n",
    "* $$\\Sigma_c = \\frac{1}{m_c} \\sum_i{r_{ic}(x_i - \\mu_c)^T(x_i-\\mu_c)}$$\n"
   ]
  },
  {
   "cell_type": "code",
   "execution_count": null,
   "metadata": {},
   "outputs": [],
   "source": [
    "BIC <- matrix(nrow = 100, ncol = 3)\n",
    "\n",
    "for(i in 1:100){\n",
    "    # Calculate PDF with class means and covariances.\n",
    "    z <- cbind(mvpdf(x = iris[, 1:4], mu = mu[1, ], sigma = cov[[1]]), mvpdf(x = iris[, \n",
    "        1:4], mu = mu[2, ], sigma = cov[[2]]), mvpdf(x = iris[, 1:4], mu = mu[3, \n",
    "        ], sigma = cov[[3]]))\n",
    "\n",
    "    # Expectation Step for each class.\n",
    "    r <- cbind((a[1] * z[, 1])/rowSums(t((t(z) * a))), (a[2] * z[, 2])/rowSums(t((t(z) * \n",
    "        a))), (a[3] * z[, 3])/rowSums(t((t(z) * a))))\n",
    "\n",
    "    # Choose the highest rowwise probability\n",
    "    eK <- factor(apply(r, 1, which.max))\n",
    "\n",
    "    # Total Responsibility for each class\n",
    "    mc <- colSums(r)\n",
    "\n",
    "    # Update Mixing Components.\n",
    "    a <- mc/NROW(iris)\n",
    "\n",
    "    # Update our Means\n",
    "    mu <- rbind(colSums(iris[, 1:4] * r[, 1]) * 1/mc[1], colSums(iris[, 1:4] * \n",
    "        r[, 2]) * 1/mc[2], colSums(iris[, 1:4] * r[, 3]) * 1/mc[3])\n",
    "\n",
    "\n",
    "    # Update Covariance matrix.\n",
    "    cov[[1]] <- t(r[, 1] * t(apply(iris[, 1:4], 1, function(x) x - mu[1, ]))) %*% \n",
    "        (r[, 1] * t(apply(iris[, 1:4], 1, function(x) x - mu[1, ]))) * 1/mc[1]\n",
    "\n",
    "    cov[[2]] <- t(r[, 2] * t(apply(iris[, 1:4], 1, function(x) x - mu[2, ]))) %*% \n",
    "        (r[, 2] * t(apply(iris[, 1:4], 1, function(x) x - mu[2, ]))) * 1/mc[2]\n",
    "\n",
    "    cov[[3]] <- t(r[, 3] * t(apply(iris[, 1:4], 1, function(x) x - mu[3, ]))) %*% \n",
    "        (r[, 3] * t(apply(iris[, 1:4], 1, function(x) x - mu[3, ]))) * 1/mc[3]\n",
    "                      \n",
    "    # Compute the sum of the mixture densities, take the log, and add the\n",
    "    # column vector.\n",
    "    loglik <- sum(log(apply(t(t(z) * a), 1, sum)))\n",
    "\n",
    "    # BIC is calculated using the equation\n",
    "    bic <- -2 * loglik + 14 * log(NROW(iris))\n",
    "\n",
    "    BIC[i,] <- c(i, bic, loglik)\n",
    "}\n",
    "a                   "
   ]
  },
  {
   "cell_type": "markdown",
   "metadata": {},
   "source": [
    "$$log N(\\mu, \\Sigma) = log \\sum_c{\\pi_c*N(\\mu_c,\\Sigma_c)}$$\n",
    "$$BIC=-2ln \\hat{L} + k * ln(n)$$\n",
    "where $k$ here is number of free parameters, **not** number of classes\n",
    "\n",
    "For GMMs, the number of $k$ free parameters is equal to the sum of ($k$ *classes* x $d$ dimensions) + ($k$ *classes* -$1$). This will be 14 in our example."
   ]
  },
  {
   "cell_type": "code",
   "execution_count": null,
   "metadata": {
    "scrolled": false
   },
   "outputs": [],
   "source": [
    "# After every iteration we can plot.\n",
    "par(mfrow = c(1, 2))\n",
    "plot(BIC[, c(1, 2)], type = \"l\", lwd = 2, col = \"red\", main = \"BIC\", xlab = \"Iterations\", \n",
    "    ylab = \"Score\")\n",
    "plot(BIC[, c(1, 3)], type = \"l\", lwd = 2, col = \"blue\", main = \"Log-Likelihood\", \n",
    "    xlab = \"Iterations\", ylab = \"Score\")"
   ]
  },
  {
   "cell_type": "code",
   "execution_count": null,
   "metadata": {},
   "outputs": [],
   "source": [
    "# plot by clustering\n",
    "plot(iris[, 1:4], col = eK, pch = 18, main = \"Fisher's Iris Dataset\")"
   ]
  },
  {
   "cell_type": "code",
   "execution_count": null,
   "metadata": {},
   "outputs": [],
   "source": [
    "# plot by species\n",
    "plot(iris[, 1:4], col = iris$Species, pch = 18, main = \"Fisher's Iris Dataset\")"
   ]
  },
  {
   "cell_type": "code",
   "execution_count": null,
   "metadata": {},
   "outputs": [],
   "source": [
    "# custom clustering vs species\n",
    "table(eK, iris$Species)"
   ]
  },
  {
   "cell_type": "markdown",
   "metadata": {},
   "source": [
    "### Using `mclust`"
   ]
  },
  {
   "cell_type": "code",
   "execution_count": null,
   "metadata": {},
   "outputs": [],
   "source": [
    "# Load the package\n",
    "library(mclust)\n",
    "\n",
    "# Select 4 continuous variables and look for three distinct groups.\n",
    "mcl.model <- Mclust(iris[, 1:4], 3, parameters=TRUE)\n",
    "mcl.model$df\n",
    "\n",
    "# Plot our results.\n",
    "plot(mcl.model, what = \"classification\", main = \"Mclust Classification\")"
   ]
  },
  {
   "cell_type": "code",
   "execution_count": null,
   "metadata": {},
   "outputs": [],
   "source": [
    "# mclust vs species\n",
    "table(mcl.model$classification, iris$Species)"
   ]
  },
  {
   "cell_type": "code",
   "execution_count": null,
   "metadata": {},
   "outputs": [],
   "source": [
    "# custom clustering vs mclust\n",
    "table(eK, mcl.model$classification)"
   ]
  },
  {
   "cell_type": "markdown",
   "metadata": {},
   "source": [
    "Now perform a GMM analysis on `iris` dataset **without** specifying the number of clusters. This will default to analyzing 1-9 clusters. Explore the `Mclust` function in the help documentation to figure out what features of the output will give you information on what the optimal number of clusters are. What does the analysis tell you about the best number of clusters? <span style=\"color:red\">**You can answer the questions as comments or however you'd prefer. Make sure to address which two components of the model object (which we covered in lab) are useful in determining the optimal number of clusters**</span>."
   ]
  },
  {
   "cell_type": "code",
   "execution_count": null,
   "metadata": {},
   "outputs": [],
   "source": []
  },
  {
   "cell_type": "markdown",
   "metadata": {},
   "source": [
    "Now perform the same analyses on the `faithful` dataset. First plot based on k=2. Then do a k=1-9 analysis and determine the optimal number of clusters. <span style=\"color:red\">**Make sure to include the plot in your submission, as well as a comment or other on the optimal number of clusters found**</span>."
   ]
  },
  {
   "cell_type": "code",
   "execution_count": null,
   "metadata": {},
   "outputs": [],
   "source": [
    "str(faithful)"
   ]
  },
  {
   "cell_type": "code",
   "execution_count": null,
   "metadata": {},
   "outputs": [],
   "source": []
  },
  {
   "cell_type": "code",
   "execution_count": null,
   "metadata": {},
   "outputs": [],
   "source": []
  },
  {
   "cell_type": "code",
   "execution_count": null,
   "metadata": {},
   "outputs": [],
   "source": []
  },
  {
   "cell_type": "code",
   "execution_count": null,
   "metadata": {},
   "outputs": [],
   "source": []
  },
  {
   "cell_type": "code",
   "execution_count": null,
   "metadata": {},
   "outputs": [],
   "source": []
  }
 ],
 "metadata": {
  "kernelspec": {
   "display_name": "R",
   "language": "R",
   "name": "ir"
  },
  "language_info": {
   "codemirror_mode": "r",
   "file_extension": ".r",
   "mimetype": "text/x-r-source",
   "name": "R",
   "pygments_lexer": "r",
   "version": "4.1.2"
  }
 },
 "nbformat": 4,
 "nbformat_minor": 4
}
