{
 "cells": [
  {
   "cell_type": "markdown",
   "id": "ac654bea",
   "metadata": {},
   "source": [
    "## Background / Review"
   ]
  },
  {
   "cell_type": "markdown",
   "id": "12c666fe",
   "metadata": {},
   "source": [
    "**Systems of Equations**\n",
    "\n",
    "Performing operations on large and multidimensional datasets involves solving a system of equations. Instead of a simple algebra problem where one must solve for *one* unknown (i.e. $2x + 1 = 7$), we must solve for multiple unknown variables, with more than one equation to guide us. Consider the following example:\n",
    "\n",
    "\\begin{equation}\n",
    "5x_1 + 3.5x_2 = 4.38   \n",
    "\\end{equation}\n",
    "\\begin{equation}  \n",
    "x_1 + x_2 = 1    \n",
    "\\end{equation}\n"
   ]
  },
  {
   "cell_type": "markdown",
   "id": "97c14c0b",
   "metadata": {},
   "source": [
    "In order to solve this by hand, one can solve for $x_1$ in terms of $x_2$ and plug it into equation 1. This is feasible in the simple case of 2 equations and 2 unknowns, but what if we have more than 10 unknowns? Solving by hand all of a sudden seems like a daunting task. It is therefore necessary to employ linear algebra methods and represent the coefficients in matrix format. Now one can solve for $x = \\begin{bmatrix} x_1 x_2\\end{bmatrix}$ with the following setup:\n",
    "\n",
    "\\begin{equation*}\n",
    "Ax=b \n",
    "\\end{equation*}\n",
    "\\begin{equation*}\n",
    "A = \\begin{bmatrix}\n",
    "5 & 3.5 \\\\\n",
    "1 & 1\n",
    "\\end{bmatrix},\n",
    "b = \\begin{bmatrix}\n",
    "4.38 \\\\\n",
    "1\n",
    "\\end{bmatrix}\n",
    "\\end{equation*}"
   ]
  },
  {
   "cell_type": "markdown",
   "id": "73b5305e",
   "metadata": {},
   "source": [
    "To solve this by hand requires some practice of methods from linear algebra. However, these methods get more complicated the more unknowns you have. This class will not cover manually solving systems of equations in this way, but rather how to implement Python solvers. If you are interested in the theory and magic that happens behind the Python functions, I highly recommend taking a class in Linear Algebra or doing some research. "
   ]
  },
  {
   "cell_type": "markdown",
   "id": "174a108d",
   "metadata": {},
   "source": [
    "**Differential Equations**\n",
    "\n",
    "Differential equations relate a function to its derivative. For instance, consider the following equation: \n",
    "\\begin{equation*}\n",
    "\\frac{dx}{dt} = \\alpha x \\qquad x(0)=1\n",
    "\\end{equation*}\n",
    "\n",
    "This is a way of representing exponential growth - the slope of the function at any given time $t$ is proportional to the value $x$ takes. In order to analytically solve this, we need to separate the variables and integrate:\n",
    "\n",
    "\\begin{equation*}\n",
    "\\int \\frac{dx}{x} = \\int \\alpha dt\n",
    "\\end{equation*}\n",
    "\n",
    "Taking the integral yields the following solution:\n",
    "\\begin{equation*}\n",
    "\\ln{x} + C = \\alpha t\n",
    "\\end{equation*}\n",
    "\n",
    "In order to resolve C, we must employ the initial condition x(0) = 1. Solving for C by plugging in 0 for t and 1 for x, we get C = 0, so the final solution is:\n",
    "\n",
    "\\begin{equation*}\n",
    "e^{\\ln{x}} = e^{\\alpha t} \\longrightarrow x = e^{\\alpha t}\n",
    "\\end{equation*}\n",
    "\n",
    "Something to remember is that not all differential equations have an analytical solution (cannot be expressed through elementary functions, such as polynomials, rational functions, trigonometric functions, etc.). For this reason, most often you'll need to resort to numerical approximations of solutions."
   ]
  },
  {
   "cell_type": "markdown",
   "id": "186de754",
   "metadata": {},
   "source": [
    "**Equilibrium Points** \n",
    "\n",
    "Equilibrium points of a model are where the model stays doesn't change/stays fixed. Conceptually, this is the same as saying the slope is equal to 0. To find equilibrium points we can set the derivative function of the model and set it to 0:\n",
    "\n",
    "\\begin{equation*}\n",
    "\\frac{dx}{dt} = f(x) = 0\n",
    "\\end{equation*}\n",
    "\n",
    "You can test this by plugging in the equilibrium points into the solution of the differential equation as the initial condition. To tie this back to the quadratic equation problem in the last assignment, the harvest differential equation $\\frac{dN}{dt} = rN(t)(1-\\frac{N(t)}{K}) - h$, when expanded, yielded the quadratic expression $rN(t)-\\frac{rN(t)^{2}}{K}-h$. Setting that to 0, in order to find the equilibrium points, you were asked to find those points using the quadratic formula. "
   ]
  },
  {
   "cell_type": "markdown",
   "id": "40b0aea9",
   "metadata": {},
   "source": [
    "## Lab 3"
   ]
  },
  {
   "cell_type": "code",
   "execution_count": null,
   "id": "cc7adb4b",
   "metadata": {},
   "outputs": [],
   "source": [
    "import math as m\n",
    "import numpy as np\n",
    "import sympy as sym\n",
    "import matplotlib.pyplot as plt\n",
    "from scipy.integrate import solve_ivp"
   ]
  },
  {
   "cell_type": "code",
   "execution_count": null,
   "id": "e1852dbb",
   "metadata": {},
   "outputs": [],
   "source": [
    "sym.init_printing() # makes the output look prettier in sympy "
   ]
  },
  {
   "cell_type": "code",
   "execution_count": null,
   "id": "b2814d0b",
   "metadata": {},
   "outputs": [],
   "source": [
    "# review of quadratic eqn\n",
    "\n",
    "## recall that a quadratic equation is of the form y = ax^2+bx+c = 0, where x is the unknown that we solve for"
   ]
  },
  {
   "cell_type": "markdown",
   "id": "d2d2821c",
   "metadata": {},
   "source": [
    "## Variables as symbols"
   ]
  },
  {
   "cell_type": "code",
   "execution_count": null,
   "id": "76e628bb",
   "metadata": {},
   "outputs": [],
   "source": [
    "r,N,K,h = sym.symbols(\"r N K h\")\n",
    "r"
   ]
  },
  {
   "cell_type": "markdown",
   "id": "53a57e74",
   "metadata": {},
   "source": [
    "## Solving equations"
   ]
  },
  {
   "cell_type": "code",
   "execution_count": null,
   "id": "d666020f",
   "metadata": {},
   "outputs": [],
   "source": [
    "sym.solveset(r*N*(1-N/K)-h, N)"
   ]
  },
  {
   "cell_type": "code",
   "execution_count": null,
   "id": "47889549",
   "metadata": {},
   "outputs": [],
   "source": [
    "sym.solveset((r*N**2)/K-r*N+h, N)"
   ]
  },
  {
   "cell_type": "markdown",
   "id": "5ddbcaae",
   "metadata": {},
   "source": [
    "## Solving systems of equations\n",
    "\n",
    "Solve for $y = \\frac{3}{2}x$,  $y = -\\frac{1}{2}x+8$."
   ]
  },
  {
   "cell_type": "code",
   "execution_count": null,
   "id": "4ecbfc30",
   "metadata": {},
   "outputs": [],
   "source": [
    "# graphical representation \n",
    "\n",
    "x = np.linspace(0,10, 51) # note here that we are explicitly defining x in order to plot it\n",
    "y1 = (3/2)*x\n",
    "y2 = (-1/2)*x+8\n",
    "plt.plot(x, y1)\n",
    "plt.plot(x,y2)\n",
    "plt.show()"
   ]
  },
  {
   "cell_type": "markdown",
   "id": "aab2af5d",
   "metadata": {},
   "source": [
    "Process of elimination:\n",
    "<br> $y - \\frac{3}{2}x = 0$\n",
    "<br> $y + \\frac{1}{2} - 8 = 0$"
   ]
  },
  {
   "cell_type": "code",
   "execution_count": null,
   "id": "a00ce47d",
   "metadata": {},
   "outputs": [],
   "source": [
    "# syntax - sym.linsolve(system, symbols)\n",
    "# the argument 'system' assumes the expression is equal to 0!!\n",
    "# analytical solution  \n",
    "x, y = sym.symbols(\"x y\")\n",
    "sym.linsolve([y-(3/2)*x, y+(1/2)*x-8], [x,y])"
   ]
  },
  {
   "cell_type": "markdown",
   "id": "59125a49",
   "metadata": {},
   "source": [
    "**Another example of solving systems of equations, but for nonlinear equations. Let $y = 2x^2-10$ and $y = -4x^2+10$.**"
   ]
  },
  {
   "cell_type": "code",
   "execution_count": null,
   "id": "f0ef5ea8",
   "metadata": {
    "scrolled": true
   },
   "outputs": [],
   "source": [
    "# graphical representation\n",
    "\n",
    "x = np.linspace(0,10,51)\n",
    "y1 = 2*x**2-10\n",
    "y2 = -4*x**2+10\n",
    "plt.plot(x, y1)\n",
    "plt.plot(x, y2)\n",
    "plt.ylim(-50,50)\n",
    "plt.legend([\"y1\", \"y2\"])\n",
    "plt.show()"
   ]
  },
  {
   "cell_type": "code",
   "execution_count": null,
   "id": "de164322",
   "metadata": {},
   "outputs": [],
   "source": [
    "# using sym.plot function as an alternative\n",
    "## doesn't require creating a range for x, but also less flexible in plot manipulation\n",
    "\n",
    "x = sym.symbols(\"x\")\n",
    "eq1 = 2*x**2-10\n",
    "eq2 = -4*x**2+10\n",
    "\n",
    "# syntax - sym.plot(expr1, expr2, ... range, ...), where range is (free_variable, start, stop)\n",
    "# or - sym.plot((expr1, range1), (expr2, range2), ...) if using multiple ranges\n",
    "p = sym.plot(eq1, eq2, (x, 0, 10), xlabel=\"x\", ylabel=\"y\", show = False, legend = True)\n",
    "#p = sym.plot(eq1, eq2, (x, 0, 10), ylim = (-45, 45), xlabel=\"x\", ylabel=\"y\", show = False, legend = True)\n",
    "p[0].line_color='r'\n",
    "p.show() # needed since the argument in sym.plot says false"
   ]
  },
  {
   "cell_type": "code",
   "execution_count": null,
   "id": "9fbc547c",
   "metadata": {},
   "outputs": [],
   "source": [
    "# analytical solution\n",
    "\n",
    "x, y = sym.symbols(\"x y\")\n",
    "sym.nonlinsolve([y-2*x**2+10, y+4*x**2-10], [x,y])"
   ]
  },
  {
   "cell_type": "code",
   "execution_count": null,
   "id": "97dd01e5",
   "metadata": {},
   "outputs": [],
   "source": [
    "# extracting parts of the solution\n",
    "\n",
    "sym.nonlinsolve([y-2*x**2+10, y+4*x**2-10],[x,y]).args[0]"
   ]
  },
  {
   "cell_type": "markdown",
   "id": "c3d69a8b",
   "metadata": {},
   "source": [
    "## Calculating differentials and integrals\n",
    "\n",
    "We can use sym.diff() and sym.integrate() for this."
   ]
  },
  {
   "cell_type": "markdown",
   "id": "92f77795",
   "metadata": {},
   "source": [
    "Let $y = x^2 + 3 - \\cos{x}$. "
   ]
  },
  {
   "cell_type": "markdown",
   "id": "dac9fd8c",
   "metadata": {},
   "source": [
    "**Differentiation**"
   ]
  },
  {
   "cell_type": "code",
   "execution_count": null,
   "id": "186ed666",
   "metadata": {},
   "outputs": [],
   "source": [
    "# sympy for calculating differentials\n",
    "\n",
    "x = sym.symbols(\"x\")\n",
    "sym.diff(x**2 + 3 - sym.cos(x),x)"
   ]
  },
  {
   "cell_type": "code",
   "execution_count": null,
   "id": "632c6657",
   "metadata": {},
   "outputs": [],
   "source": [
    "# more symbol syntax\n",
    "f = sym.Function(\"f\")\n",
    "g = sym.Function(\"g\")(x)\n",
    "print(f)\n",
    "print(f(x))\n",
    "print(g)\n",
    "dfdx = f(x).diff(x)\n",
    "print(dfdx)"
   ]
  },
  {
   "cell_type": "code",
   "execution_count": null,
   "id": "c3810c7f",
   "metadata": {},
   "outputs": [],
   "source": [
    "y = sym.symbols(\"y\", cls=sym.Function)\n",
    "x = sym.symbols(\"x\") #defaults to class 'symbol'\n",
    "dydx = y(x).diff(x) # differentiating the equation y with respect to x\n",
    "print(dydx)\n",
    "eqn = sym.Eq(dydx, sym.diff(x**2+3-sym.cos(x),x))\n",
    "eqn"
   ]
  },
  {
   "cell_type": "markdown",
   "id": "c576eb52",
   "metadata": {},
   "source": [
    "**Integration**\n",
    "\n",
    "Let $y = 2x + \\sin{x}$. "
   ]
  },
  {
   "cell_type": "code",
   "execution_count": null,
   "id": "02eda9a4",
   "metadata": {},
   "outputs": [],
   "source": [
    "# sympy for calculating indefinite integrals\n",
    "\n",
    "x = sym.symbols(\"x\")\n",
    "sym.integrate(2*x + sym.sin(x))"
   ]
  },
  {
   "cell_type": "code",
   "execution_count": null,
   "id": "6e9bb2c0",
   "metadata": {},
   "outputs": [],
   "source": [
    "y = sym.symbols(\"y\", cls=sym.Function)\n",
    "x = sym.symbols(\"x\") #defaults to class 'symbol'\n",
    "Yx = y(x).integrate(x) # differentiating the equation y with respect to x\n",
    "print(Yx)\n",
    "eqn1 = sym.Eq(Yx, sym.integrate(2*x + sym.sin(x)))\n",
    "eqn1"
   ]
  },
  {
   "cell_type": "code",
   "execution_count": null,
   "id": "80ae2edd",
   "metadata": {},
   "outputs": [],
   "source": [
    "exp = (2*x+sym.sin(x))\n",
    "Exp = exp.integrate(x)\n",
    "print(Exp)\n",
    "eqn2 = sym.Eq(Exp, sym.integrate(2*x + sym.sin(x)))\n",
    "eqn2"
   ]
  },
  {
   "cell_type": "code",
   "execution_count": null,
   "id": "fd2113cb",
   "metadata": {},
   "outputs": [],
   "source": [
    "# plot the original equation\n",
    "xs = np.linspace(0,20,50)\n",
    "y = [2*x + m.sin(x) for x in xs]\n",
    "plt.plot(xs, y)\n",
    "plt.show()"
   ]
  },
  {
   "cell_type": "code",
   "execution_count": null,
   "id": "7432751f",
   "metadata": {},
   "outputs": [],
   "source": [
    "# evaluation for a definite integral\n",
    "\n",
    "x = sym.symbols(\"x\")\n",
    "sym.integrate(2*x + sym.sin(x),(x,0, 20)).evalf(10)"
   ]
  },
  {
   "cell_type": "markdown",
   "id": "0db2a423",
   "metadata": {},
   "source": [
    "## Using 'dsolve' to solve ODEs\n",
    "\n",
    "Lets use our favorite bacterial growth rate in rich media as an example:\n",
    "  \n",
    "## $\\frac{dN(t)}{dt}=kN(t)$  \n",
    "\n",
    "where $t$ is time, k is some constant specific for this E.coli strain and growth conditions, $N(t)$ is number of E. coli at time $t$.  "
   ]
  },
  {
   "cell_type": "code",
   "execution_count": null,
   "id": "9ca3dbcf",
   "metadata": {},
   "outputs": [],
   "source": [
    "sym.dsolve?"
   ]
  },
  {
   "cell_type": "code",
   "execution_count": null,
   "id": "fb8c1981",
   "metadata": {},
   "outputs": [],
   "source": [
    "# analytical solution\n",
    "\n",
    "N = sym.symbols(\"N\", cls=sym.Function) # because both sides of a differential contain the function N(t), we need\n",
    "# to tell sympy that N is a function, and not just an independent variable\n",
    "t, k, N0 = sym.symbols(\"t, k, N0\")\n",
    "dNdt = N(t).diff(t)\n",
    "\n",
    "# syntax - sym.dsolve(eq, f(x)), where 'f(x)' is a function of one variable whose derivatives in that variable \n",
    "# make up the ODE in 'eq'\n",
    "Growth_solution = sym.dsolve(dNdt - k * N(t), N(t)) \n",
    "Growth_solution"
   ]
  },
  {
   "cell_type": "code",
   "execution_count": null,
   "id": "4e0d9be1",
   "metadata": {},
   "outputs": [],
   "source": [
    "# using ics, given in the form of {f(x0): x1}\n",
    "#N0 = 5\n",
    "N = sym.symbols(\"N\", cls=sym.Function)\n",
    "t, k = sym.symbols(\"t, k\")\n",
    "\n",
    "Growth_solution = sym.dsolve(dNdt - k * N(t), N(t), ics={N(0): N0})\n",
    "Growth_solution"
   ]
  },
  {
   "cell_type": "code",
   "execution_count": null,
   "id": "0e7f533d",
   "metadata": {},
   "outputs": [],
   "source": [
    "# plotting the solution\n",
    "\n",
    "sym.plot(\n",
    "    Growth_solution.rhs.subs({N0: 1, k: sym.ln(2)}), # rhs - right hand side, indicates that the rhs of the solution gets plotted\n",
    "    Growth_solution.rhs.subs({N0: 2, k: sym.ln(2)}), # subs - substitutes variables with values\n",
    "    Growth_solution.rhs.subs({N0: 4, k: sym.ln(2)}),\n",
    "    (t, 0, 5), # x-axis range\n",
    "    xlabel=\"t\",\n",
    "    ylabel=\"N(t)\",\n",
    "); # semicolon is not needed, does the same thing as plt.show() - removes python memory allocation output\n"
   ]
  },
  {
   "cell_type": "markdown",
   "id": "1b08ecc4",
   "metadata": {},
   "source": [
    "**Notice this graph looks the same to the numerical solution (below) - so the numerical method of integrating over discrete time intervals did indeed approximate the true analytical solution.**"
   ]
  },
  {
   "cell_type": "code",
   "execution_count": null,
   "id": "e900e4a5",
   "metadata": {},
   "outputs": [],
   "source": [
    "def expFun(t,N):\n",
    "    dNdt = k*N\n",
    "    return dNdt"
   ]
  },
  {
   "cell_type": "code",
   "execution_count": null,
   "id": "ebcb63b9",
   "metadata": {},
   "outputs": [],
   "source": [
    "# plotting the numerical solution\n",
    "\n",
    "k=sym.ln(2)\n",
    "sol1 = solve_ivp(fun, t_span=[0,5], y0=[1], t_eval = np.linspace(0,5,100))\n",
    "sol2 = solve_ivp(fun, t_span=[0,5], y0=[2], t_eval = np.linspace(0,5,100))\n",
    "sol3 = solve_ivp(fun, t_span=[0,5], y0=[4], t_eval = np.linspace(0,5,100))\n",
    "plt.plot(sol1.t, sol1.y[0], sol2.t, sol2.y[0], sol3.t, sol3.y[0])\n",
    "plt.show()"
   ]
  },
  {
   "cell_type": "markdown",
   "id": "48388a31",
   "metadata": {},
   "source": [
    "**Another example - our logistic equation from the last assignment. Let** \n",
    "### $\\frac{dN}{dt} = rN(1-\\frac{N}{K})$"
   ]
  },
  {
   "cell_type": "code",
   "execution_count": null,
   "id": "6c803e53",
   "metadata": {},
   "outputs": [],
   "source": [
    "# analytical solution\n",
    "\n",
    "N = sym.symbols(\"N\", cls=sym.Function)\n",
    "t, r, K, N0 = sym.symbols(\"t, r, K, N0\")\n",
    "dNdt = N(t).diff(t)\n",
    "\n",
    "logisticSol = sym.dsolve(dNdt - r * N(t)*(1-N(t)/K), N(t), ics={N(0): N0})\n",
    "logisticSol\n"
   ]
  },
  {
   "cell_type": "code",
   "execution_count": null,
   "id": "1031082e",
   "metadata": {},
   "outputs": [],
   "source": [
    "# plotting the solution\n",
    "\n",
    "sym.plot(\n",
    "    logisticSol.rhs.subs({N0: 1, K: 12.5, r: 0.4}),\n",
    "    logisticSol.rhs.subs({N0: 2, K: 12.5, r:0.4}),\n",
    "    logisticSol.rhs.subs({N0: 4, K: 12.5, r:0.4}),\n",
    "    (t, 0, 50),\n",
    "    xlabel=\"t\",\n",
    "    ylabel=\"N(t)\",\n",
    ");"
   ]
  },
  {
   "cell_type": "markdown",
   "id": "50c9d7de",
   "metadata": {},
   "source": [
    "## Solving systems of ODEs\n",
    "Let $\\frac{dx}{dt} = y(t)$ (equation 1) and \n",
    "<br> $\\frac{dy}{dt} = x(t)$ (equation 2)."
   ]
  },
  {
   "cell_type": "code",
   "execution_count": null,
   "id": "a990d5c2",
   "metadata": {},
   "outputs": [],
   "source": [
    "# solve equation 1 for x\n",
    "x, y = sym.symbols(\"x y\", cls=sym.Function)\n",
    "t, x0, y0 = sym.symbols(\"t x0 y0\")\n",
    "dxdt = x(t).diff(t)\n",
    "eq1 = dxdt-y(t)\n",
    "sol1 = sym.dsolve(eq1, x(t))\n",
    "sol1"
   ]
  },
  {
   "cell_type": "code",
   "execution_count": null,
   "id": "a0f1842e",
   "metadata": {},
   "outputs": [],
   "source": [
    "# solve equation 2 for y\n",
    "dydt = y(t).diff(t)\n",
    "eq2 = dydt-x(t)\n",
    "eq2\n",
    "sol2 = sym.dsolve(eq2, y(t))\n",
    "sol2"
   ]
  },
  {
   "cell_type": "code",
   "execution_count": null,
   "id": "fd5463ea",
   "metadata": {},
   "outputs": [],
   "source": [
    "# solve for the system\n",
    "# syntax - sym.dsolve([eq1, eq2, ...], [f1(x), f2(x), ...])\n",
    "sol = sym.dsolve([eq1,eq2],[x(t),y(t)])\n",
    "sol"
   ]
  },
  {
   "cell_type": "code",
   "execution_count": null,
   "id": "109035fd",
   "metadata": {},
   "outputs": [],
   "source": [
    "# plugging the solution back into (1) shows that they satisfy the ODE\n",
    "eq = sym.Eq(sol[0].rhs.diff(t), sol[0].rhs)\n",
    "eq"
   ]
  },
  {
   "cell_type": "code",
   "execution_count": null,
   "id": "293f7447",
   "metadata": {},
   "outputs": [],
   "source": [
    "# C1 = C2 = 1\n",
    "sym.plot(-sym.exp(-t)+sym.exp(t));"
   ]
  },
  {
   "cell_type": "code",
   "execution_count": null,
   "id": "906236f6",
   "metadata": {},
   "outputs": [],
   "source": [
    "# C1 = C2 = 1\n",
    "sym.plot(sym.exp(-t)+sym.exp(t));"
   ]
  },
  {
   "cell_type": "markdown",
   "id": "a9834085",
   "metadata": {},
   "source": [
    "**How can we solve a system of ODEs without an analytical solution?**\n",
    "\n",
    "We use a numerical approximation using 'solve_ivp()'. The syntax should be similar, with some subtle differences in the construction of the function. Let's use the same system from above:\n",
    "\n",
    "Let $\\frac{dx}{dt} = y(t)$ (equation 1) and \n",
    "<br> $\\frac{dy}{dt} = x(t)$ (equation 2)."
   ]
  },
  {
   "cell_type": "code",
   "execution_count": null,
   "id": "22d42899",
   "metadata": {},
   "outputs": [],
   "source": [
    "def ranSystem(t, z):\n",
    "    x, y = z # notice here we set both of the dependent variables from the system to be represented by one variable\n",
    "    dxdt = y\n",
    "    dydt = x\n",
    "    return [dxdt, dydt] # make sure you're returning both solutions"
   ]
  },
  {
   "cell_type": "code",
   "execution_count": null,
   "id": "16530135",
   "metadata": {},
   "outputs": [],
   "source": [
    "# parameters\n",
    "initial_condition = [0, 2] # notice that the initial condition (y0 from last lab) is now a list, for both [x0, y0]\n",
    "tspan = [-10, 10]\n",
    "soln = solve_ivp(\n",
    "    ranSystem, \n",
    "    tspan, \n",
    "    initial_condition) \n",
    "    \n",
    "# plot\n",
    "plt.figure(figsize=(8,5), dpi=100)\n",
    "plt.plot(soln.t, soln.y[0],label=\"x\")\n",
    "plt.plot(soln.t, soln.y[1],label=\"y\")\n",
    "plt.xlabel(\"Time, $t$\", fontsize=20)\n",
    "plt.ylabel(\"Z(x,y)\", fontsize=20)\n",
    "#plt.xticks(fontsize=15)\n",
    "#plt.yticks(fontsize=15)\n",
    "plt.grid()\n",
    "plt.legend(fontsize=15);"
   ]
  },
  {
   "cell_type": "markdown",
   "id": "3b6b1ac6",
   "metadata": {},
   "source": [
    "## Assignment"
   ]
  },
  {
   "cell_type": "markdown",
   "id": "8cbd5014",
   "metadata": {},
   "source": [
    "1. Come up with a system of equations with 3 unknowns and 3 equations (in contrast to the example with 2 unknowns and 2 equations) and solve it using one of the functions covered in lab.\n"
   ]
  },
  {
   "cell_type": "markdown",
   "id": "a385c151",
   "metadata": {},
   "source": [
    "2. Solve the following differential equation using $dsolve()$:\n",
    "\\begin{equation*}\n",
    "\\frac{dx}{dt} = \\alpha x^2 \\qquad x(0) = 1\n",
    "\\end{equation*}"
   ]
  },
  {
   "cell_type": "markdown",
   "id": "891b3a39",
   "metadata": {},
   "source": [
    "3. Write a function that models the predator-prey relationship (Lotka-Volterra model),\n",
    "\\begin{equation*}\n",
    "\\frac{dN}{dt} = aN - bNP %prey\n",
    "\\end{equation*}\n",
    "\\begin{equation*}\n",
    "\\frac{dP}{dt} = cNP - dP %predator\n",
    "\\end{equation*}\n",
    "\n",
    "    As mentioned in the lab and in lecture, this is one of those systems that doesn't have an analytical solution."
   ]
  },
  {
   "cell_type": "markdown",
   "id": "e5127fe9",
   "metadata": {},
   "source": [
    "4. Solve it with the following parameters and plot the results: $a = 1.8$; $b = 0.4;$ $c = 0.48$; $d = 1$. Set the initial condition to $N_{0}=10, P_{0}=10$. "
   ]
  },
  {
   "cell_type": "markdown",
   "id": "47fa87c7",
   "metadata": {},
   "source": [
    "5. Find the equilibrium points of the model using $nonlinsolve()$ (Why $nonlinsolve()$ and not $dsolve()$? $nonlinsolve()$ solves the nonlinear system of equations, rather than solving the differential equation - we're interested in the points that make the differentials equal to 0.)"
   ]
  },
  {
   "cell_type": "markdown",
   "id": "f6cdbe2b",
   "metadata": {},
   "source": [
    "6. Verify that these points are the equilibrium points by plugging them into the initial condition. "
   ]
  },
  {
   "cell_type": "code",
   "execution_count": null,
   "id": "72ceb97c",
   "metadata": {},
   "outputs": [],
   "source": []
  }
 ],
 "metadata": {
  "kernelspec": {
   "display_name": "Python 3 (ipykernel)",
   "language": "python",
   "name": "python3"
  },
  "language_info": {
   "codemirror_mode": {
    "name": "ipython",
    "version": 3
   },
   "file_extension": ".py",
   "mimetype": "text/x-python",
   "name": "python",
   "nbconvert_exporter": "python",
   "pygments_lexer": "ipython3",
   "version": "3.9.10"
  }
 },
 "nbformat": 4,
 "nbformat_minor": 5
}
