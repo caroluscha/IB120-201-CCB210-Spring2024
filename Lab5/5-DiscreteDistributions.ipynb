{
 "cells": [
  {
   "cell_type": "markdown",
   "metadata": {},
   "source": [
    "# Discrete vs Continuous Datasets"
   ]
  },
  {
   "cell_type": "markdown",
   "metadata": {},
   "source": [
    "## General Probability"
   ]
  },
  {
   "cell_type": "markdown",
   "metadata": {},
   "source": [
    "When we talk about probability we mean we are interested in the likelihood of an event occurring. The probability of any discrete event occuring can be formulated as: $p = \\frac{number of ways the event could arise}{number of possible outcomes}$"
   ]
  },
  {
   "cell_type": "markdown",
   "metadata": {},
   "source": [
    "The probability of an event is represented by a number between 0 and 1, and the letter $p$. For example, the probability of flipping a coin and it landing on ‘tails’, most people would say, is estimated at $p = .5$, i.e. the likelihood of getting tails is  $p=1/2$ as there is one desired outcome (tails) and two possibilities (heads or tails)."
   ]
  },
  {
   "cell_type": "markdown",
   "metadata": {},
   "source": [
    "### More examples:"
   ]
  },
  {
   "cell_type": "markdown",
   "metadata": {},
   "source": [
    "1. Let $P(A)$ be the probability of drawing the ten of clubs from a standard deck of cards. The probability will be 1 in 52: $P(A) = 1/52 = 0.019$. One outcome (ten of clubs) with 52 possible outcomes (all the cards)."
   ]
  },
  {
   "cell_type": "markdown",
   "metadata": {},
   "source": [
    "2. Let $P(B)$ be the probability of drawing a seven of diamonds from a standard deck of cards. Then the probability of drawing **either** a ten of clubs or seven of diamons would be 2 in 52: $P(A \\bigcup B) = 2/52 = 0.38$. In this case you are adding to the chance of an event occurring by giving two possible outcomes so it becomes more likely to happen than when you only had one outcome."
   ]
  },
  {
   "cell_type": "markdown",
   "metadata": {},
   "source": [
    "3. Now say you have two standard packs of cards **mixed** together. The probability of drawing the 10 of clubs from this mixed pack would be 2 in 104: $P(A) = 2/104 = 0.019$. Two possible outcomes but more alternatives than above, 104 this time."
   ]
  },
  {
   "cell_type": "markdown",
   "metadata": {},
   "source": [
    "4. Let’s instead say you have two **separate** packs of cards. The probability of drawing the 10 of clubs from **both** packs would be: $P(A \\bigcap A) = \\frac{1}{52} x \\frac{1}{52} = 0.0004$. This is called the **joint probability** of events.\n",
    "\n",
    "+ To find the joint probability of two separate events occuring you multiply together the probabilities of the two individual separate events (often stated as independent, mutually exclusive events)."
   ]
  },
  {
   "cell_type": "markdown",
   "metadata": {},
   "source": [
    "5. What about the probability of drawing the 10 of clubs from a pack of 52, putting it back (which we call **replacement**), and subsequently drawing the 7 of diamonds? Again, this would be represented by multiplying together the probability of each of these events happening: $p = \\frac{1}{52} x \\frac{1}{52} = 0.0004$.\n",
    "\n",
    "+ The second event (drawing the 7 of diamonds) has the same probability as the first event (drawing the 10 of clubs) because we put the original card back in the pack, keeping the number of all possible outcomes at 52. This is **replacement**."
   ]
  },
  {
   "cell_type": "markdown",
   "metadata": {},
   "source": [
    "6. Finally, say you draw the 10 of clubs from a pack of 52, **without replacement**. What is the probability that you will draw the 7 of diamonds in your next draw (again **without replacement**) and the 3 of hearts in a third draw? $p = \\frac{1}{52} x \\frac{1}{51} x \\frac{1}{50} = 0.000008$."
   ]
  },
  {
   "cell_type": "markdown",
   "metadata": {},
   "source": [
    "### Questions:"
   ]
  },
  {
   "cell_type": "markdown",
   "metadata": {},
   "source": [
    "* What is the probability of randomly drawing your name out of a hat of 12 names where one name is definitely your name?: "
   ]
  },
  {
   "cell_type": "markdown",
   "metadata": {},
   "source": [
    "+ What is the probability of randomly drawing your name out of a hat of 12 names, putting it back, and drawing your name again?:"
   ]
  },
  {
   "cell_type": "markdown",
   "metadata": {},
   "source": [
    "+ You have 120 cards, where 10 are red and 110 are blue. What is the probability of randomly removing one red card on your first trial, not replacing it, and then removing another red card on the second trial?:"
   ]
  },
  {
   "cell_type": "markdown",
   "metadata": {},
   "source": [
    "## Creating a Simple Probability Distribution"
   ]
  },
  {
   "cell_type": "markdown",
   "metadata": {},
   "source": [
    "What is a **sampling distribution**? A sampling distribution shows you the probability of drawing a sample with certain characteristics from the population; e.g. the probability of 5 heads in 10 flips, or the probability of 4 heads in 10 flips, or the probability of X heads in 10 flips of the coin."
   ]
  },
  {
   "cell_type": "code",
   "execution_count": null,
   "metadata": {},
   "outputs": [],
   "source": [
    "library(\"tidyverse\")"
   ]
  },
  {
   "cell_type": "code",
   "execution_count": null,
   "metadata": {},
   "outputs": [],
   "source": [
    "?sample"
   ]
  },
  {
   "cell_type": "code",
   "execution_count": null,
   "metadata": {},
   "outputs": [],
   "source": [
    "# syntax - sample(x, size, replace)\n",
    "sample(c(\"HEADS\", \"TAILS\"), 10, TRUE) "
   ]
  },
  {
   "cell_type": "code",
   "execution_count": null,
   "metadata": {},
   "outputs": [],
   "source": [
    "sum(sample(0:1, 10, TRUE))"
   ]
  },
  {
   "cell_type": "code",
   "execution_count": null,
   "metadata": {},
   "outputs": [],
   "source": [
    "sample(0:1, 10, TRUE) %>% sum() # piping"
   ]
  },
  {
   "cell_type": "code",
   "execution_count": null,
   "metadata": {},
   "outputs": [],
   "source": [
    "heads10k <- replicate(10000, sample(0:1, 10, TRUE) %>% sum()) # saving results to a vector  "
   ]
  },
  {
   "cell_type": "code",
   "execution_count": null,
   "metadata": {},
   "outputs": [],
   "source": [
    "head(heads10k, 20)"
   ]
  },
  {
   "cell_type": "markdown",
   "metadata": {},
   "source": [
    "Steps to create our distribution:\n",
    "+ Convert the vector into a data frame (a tibble) so we can work on it. The numbers will be stored in a column called `heads`.\n",
    "+ Then group the results by the number of possible `heads`; i.e. group all the times we got 5 heads together, all the times we got 4 heads together, etc.\n",
    "+ Calculate the probability of a `heads` result, (e.g. probability of 5 heads), by totaling the number of observations for each possible result (e.g. 5 heads) and submitting it to our probability formula above (number of outcomes of event divided by all possible outcomes)"
   ]
  },
  {
   "cell_type": "code",
   "execution_count": null,
   "metadata": {},
   "outputs": [],
   "source": [
    "data10k <- tibble(heads = heads10k) %>%       # creating a tibble/dataframe\n",
    "                group_by(heads) %>%           # group by number of possibilities\n",
    "                summarise(n = n(), p=n/10000) # count occurances of possibility,\n",
    "                                              # & calculate probability (p) of\n",
    "                                              # each"
   ]
  },
  {
   "cell_type": "code",
   "execution_count": null,
   "metadata": {},
   "outputs": [],
   "source": [
    "data10k"
   ]
  },
  {
   "cell_type": "markdown",
   "metadata": {},
   "source": [
    "Let's visualize the data"
   ]
  },
  {
   "cell_type": "code",
   "execution_count": null,
   "metadata": {},
   "outputs": [],
   "source": [
    "hist(heads10k, freq=FALSE, breaks=10)"
   ]
  },
  {
   "cell_type": "code",
   "execution_count": null,
   "metadata": {},
   "outputs": [],
   "source": [
    "ggplot(data10k, aes(heads,p)) + \n",
    "  geom_col(fill = \"forest green\") + \n",
    "  labs(x = \"Number of Heads\", y = \"Probability of Heads in 10 flips (p)\") +\n",
    "  theme_bw() +\n",
    "  scale_x_discrete(limits=0:10)"
   ]
  },
  {
   "cell_type": "markdown",
   "metadata": {},
   "source": [
    "---\n",
    "#### A little bit about ggplot()"
   ]
  },
  {
   "cell_type": "markdown",
   "metadata": {},
   "source": [
    "The two main things to know about working with ggplot are that:\n",
    "\n",
    "a. the usual format is:\n",
    "`ggplot(data, aes(x = x_axis, y = y_axis)) + geom_type_of_plot()`\n",
    "\n",
    "b. it works on a concept of layers\n",
    "\n",
    "On **point a**: The first thing you enter is your dataframe/tibble; your `data`. Then within the `aes()` you say what is my `x_axis` and `y_axis`, using the column names from within your tibble. `aes` stands for aesthetics and maps data into visual features. Finally you tell the code what type of plot you want.\n",
    "\n",
    "On **point b**: Layers are a common way for graphics to work. Think about it as ggplot() fucntion creating your first layer and then every function after that is adding more layers on top to create the figure you want. The first layer is always your data and the axis/axes, i.e. ggplot(….). The second layer, added by using the plus symbol ‘+’, is the type of plot. We'll see more examples of layers in the future."
   ]
  },
  {
   "cell_type": "markdown",
   "metadata": {},
   "source": [
    "$P(X=0) = $"
   ]
  },
  {
   "cell_type": "code",
   "execution_count": null,
   "metadata": {},
   "outputs": [],
   "source": [
    "data10k$p[data10k$heads==0]"
   ]
  },
  {
   "cell_type": "markdown",
   "metadata": {},
   "source": [
    "$P(X=1) = $"
   ]
  },
  {
   "cell_type": "code",
   "execution_count": null,
   "metadata": {},
   "outputs": [],
   "source": [
    "data10k$p[data10k$heads==1]"
   ]
  },
  {
   "cell_type": "markdown",
   "metadata": {},
   "source": [
    "$P(X=2) = $"
   ]
  },
  {
   "cell_type": "code",
   "execution_count": null,
   "metadata": {},
   "outputs": [],
   "source": [
    "data10k$p[data10k$heads==2]"
   ]
  },
  {
   "cell_type": "code",
   "execution_count": null,
   "metadata": {},
   "outputs": [],
   "source": [
    "data10k$p[data10k$heads==c(0:2)] %>% sum()"
   ]
  },
  {
   "cell_type": "code",
   "execution_count": null,
   "metadata": {},
   "outputs": [],
   "source": [
    "data10k"
   ]
  },
  {
   "cell_type": "code",
   "execution_count": null,
   "metadata": {},
   "outputs": [],
   "source": [
    "cd <- c()\n",
    "for (i in 0:10) {\n",
    "    cd[i+1] <- data10k$p[data10k$heads==c(0:i)] %>% sum()\n",
    "}\n",
    "add_column(data10k, cd = cd)"
   ]
  },
  {
   "cell_type": "code",
   "execution_count": null,
   "metadata": {},
   "outputs": [],
   "source": [
    "ggplot(data10k, aes(heads,cd)) + \n",
    "  geom_col(fill = \"sienna3\") + \n",
    "  labs(x = \"Number of Heads\", y = \"Cumulative Probability of Heads in 10 flips (cd)\") +\n",
    "  theme_bw() +\n",
    "  scale_x_discrete(limits=0:10)"
   ]
  },
  {
   "cell_type": "markdown",
   "metadata": {},
   "source": [
    "### Questions:"
   ]
  },
  {
   "cell_type": "markdown",
   "metadata": {},
   "source": [
    "Look at the probability values corresponding to the number of coin flips you created in the data10k sample distribution."
   ]
  },
  {
   "cell_type": "markdown",
   "metadata": {},
   "source": [
    "1. Choose from the following options, if you wanted to calculate the probability of getting 4, 5 or 6 heads in 10 coin flips you would:\n",
    "    + A: multiply individual probabilities together\n",
    "    + B: sum individual probabilities together"
   ]
  },
  {
   "cell_type": "markdown",
   "metadata": {},
   "source": [
    "2. Choose from the following options, if you wanted to calculate the probability of getting 6 or more heads in 10 coin flips you would:\n",
    "    + A: multiply individual probabilities together\n",
    "    + B: sum individual probabilities together"
   ]
  },
  {
   "cell_type": "markdown",
   "metadata": {},
   "source": [
    "3. Choose from the following options, the distribution we have created is:\n",
    "    + A: continuous\n",
    "    + B: discrete"
   ]
  },
  {
   "cell_type": "markdown",
   "metadata": {},
   "source": [
    "Not sure if you should be summing or multiplying probabilities? A good way to remember, from both the coin flip examples and from the pack of cards examples earlier, is that if the scenarios are **related** you are summing probabilities, if scenarios are **separate** you are multiplying probabilities. **Related** scenarios are usually asking you about the probability of ‘either / or’ scenarios occuring, whereas separate scenarios usually ask about the probability of one scenario ‘and’ another scenario both occuring. This is a separate concept from **independence**."
   ]
  },
  {
   "cell_type": "markdown",
   "metadata": {},
   "source": [
    "## The Binomial Distribution"
   ]
  },
  {
   "cell_type": "markdown",
   "metadata": {},
   "source": [
    "The binomial distribution with parameters $n$ and $p$ is the discrete probability distribution of the number of successes in a sequence of $n$ independent trials, each asking a yes–no question, and each with its own Boolean-valued outcome: success (with probability $p$) or failure (with probability $q = 1 − p$). The mean of the distribution is calculated by $np$."
   ]
  },
  {
   "cell_type": "markdown",
   "metadata": {},
   "source": [
    "+ `dbinom()` - **the density function**. This function gives you the probability of `x` successes (e.g. heads) given the `size` (e.g. number of trials) and probability of success `prob` on a single trial (here it’s 0.5, because we assume we’re flipping a fair coin - Heads or Tails)."
   ]
  },
  {
   "cell_type": "markdown",
   "metadata": {},
   "source": [
    "+ `pbinom()` - **the distribution function**. This function gives you the probability of getting a number of successes below a certain cut-off point given the `size` and the `prob`. This would be for questions such as the probability of 5 heads or less for example. It sums the probability of 0, 1, 2, 3, 4 and 5 heads."
   ]
  },
  {
   "cell_type": "markdown",
   "metadata": {},
   "source": [
    "+ `qbinom()` - **the quantile function**. This function is the inverse of `pbinom` in that it gives you the x-axis value below (and including the value) which the summation of probabilities is greater than or equal to a given probability `p`, given the `size` and `prob`. In other words, how many heads would you need to have a probability of $p = 0.0571$."
   ]
  },
  {
   "cell_type": "markdown",
   "metadata": {},
   "source": [
    "**Note:** When discussing discrete distributions, we talk about **probabilities** at a particular value. However, in continuous distributions, like the normal distribution we looked at last week, we talk about **probability densities**. More simply put, the y-axis in discrete distributions are **probabilities**, whereas the y-axis in continuous distributions are **probability densities**. "
   ]
  },
  {
   "cell_type": "markdown",
   "metadata": {},
   "source": [
    "### dbinom() - The Density Function"
   ]
  },
  {
   "cell_type": "markdown",
   "metadata": {},
   "source": [
    "Using the `dbinom()` function we can create probabilities for any possible outcomes where there are two possibilities of outcome on each trial - e.g. heads or tails, cats or dogs, black or red. The dbinom (density binom) function takes the format of `dbinom(x, size, prob)`, where the arguments we give are:\n",
    "+ `x` - the number of ‘heads’ we want to know the probability of\n",
    "+ `size` - the number of trials (flips) we are doing; in this case, 10 flips\n",
    "+ `prob` - the probability of ‘heads’ on one trial\n",
    "\n",
    "We are going to stick with the coin flip idea. Here we are showing the code for obtaining 3 heads in 10 flips:"
   ]
  },
  {
   "cell_type": "code",
   "execution_count": null,
   "metadata": {},
   "outputs": [],
   "source": [
    "dbinom(3, 10, 0.5)"
   ]
  },
  {
   "cell_type": "code",
   "execution_count": null,
   "metadata": {},
   "outputs": [],
   "source": [
    "dbinom(0:10, 10, 0.5)"
   ]
  },
  {
   "cell_type": "code",
   "execution_count": null,
   "metadata": {},
   "outputs": [],
   "source": [
    "hist(rbinom(10000, 10, 0.5), freq=FALSE, breaks=10, col='purple', \n",
    "        main= \"Probability Distribution of Number of Heads in 10 Flips\",\n",
    "        xlab = \"Number of Heads\",\n",
    "        ylab = \"Probability (p)\")"
   ]
  },
  {
   "cell_type": "markdown",
   "metadata": {},
   "source": [
    "### Questions: \n",
    "+ What is the probability of 2 heads out of 10 flips?"
   ]
  },
  {
   "cell_type": "markdown",
   "metadata": {},
   "source": [
    "### pbinom() - The Cumulative Probability Function"
   ]
  },
  {
   "cell_type": "code",
   "execution_count": 1,
   "metadata": {},
   "outputs": [],
   "source": [
    "?pbinom"
   ]
  },
  {
   "cell_type": "code",
   "execution_count": null,
   "metadata": {},
   "outputs": [],
   "source": [
    "dbinom(0:3, 10, 0.5) %>% sum()"
   ]
  },
  {
   "cell_type": "code",
   "execution_count": null,
   "metadata": {},
   "outputs": [],
   "source": [
    "pbinom(3, 10, 0.5)  "
   ]
  },
  {
   "cell_type": "code",
   "execution_count": null,
   "metadata": {},
   "outputs": [],
   "source": [
    "pbinom(6, 10, 0.5, lower.tail = FALSE) # notice with the upper tail, it is *exclusive*"
   ]
  },
  {
   "cell_type": "code",
   "execution_count": null,
   "metadata": {},
   "outputs": [],
   "source": [
    "1 - pbinom(6, 10, 0.5) "
   ]
  },
  {
   "cell_type": "markdown",
   "metadata": {},
   "source": [
    "### Questions:"
   ]
  },
  {
   "cell_type": "markdown",
   "metadata": {},
   "source": [
    "1. Using the format shown above for the `pbinom()` function, enter the code that would determine the probability of up to and including 5 heads out of 20 flips, assuming a probability of 0.5:"
   ]
  },
  {
   "cell_type": "markdown",
   "metadata": {},
   "source": [
    "2. What is the probability of obtaining more than but not including 50 heads in 100 flips?"
   ]
  },
  {
   "cell_type": "markdown",
   "metadata": {},
   "source": [
    "3. How can you confirm number 2 using `dbinom()`?"
   ]
  },
  {
   "cell_type": "markdown",
   "metadata": {},
   "source": [
    "### qbinom() - The Quantile Function"
   ]
  },
  {
   "cell_type": "markdown",
   "metadata": {},
   "source": [
    "Below is code for the probability of 49 heads or less in 100 coin flips."
   ]
  },
  {
   "cell_type": "code",
   "execution_count": null,
   "metadata": {},
   "outputs": [],
   "source": [
    "p <- pbinom(49, 100, .5, lower.tail = TRUE)\n",
    "p"
   ]
  },
  {
   "cell_type": "code",
   "execution_count": null,
   "metadata": {},
   "outputs": [],
   "source": [
    "qbinom(p, 100, .5, lower.tail = TRUE)"
   ]
  },
  {
   "cell_type": "code",
   "execution_count": null,
   "metadata": {},
   "outputs": [],
   "source": [
    "qbinom(.05, 10, 0.5, lower.tail = TRUE) "
   ]
  },
  {
   "cell_type": "code",
   "execution_count": null,
   "metadata": {},
   "outputs": [],
   "source": [
    "qbinom(.05, 10, 0.5, lower.tail = FALSE) "
   ]
  },
  {
   "cell_type": "markdown",
   "metadata": {},
   "source": [
    "### Questions:\n",
    "+ What is the maximum number of heads associated with a tail probability of 10% (.1) in 17 flips? "
   ]
  },
  {
   "cell_type": "markdown",
   "metadata": {},
   "source": [
    "## Assignment"
   ]
  },
  {
   "cell_type": "markdown",
   "metadata": {},
   "source": [
    "You design a psychology experiment where you are interested in how quickly people spot faces. Using a standard task you show images of faces, houses, and noise patterns, and ask participants to respond to each image by saying ‘face’ or ‘not face’. You set the experiment so that, across the whole experiment, the number of images per stimuli type are evenly split (1/3 probability per type), but they are not necessarily evenly split in any one block. Across the entire experiment, there are 180 total images. Each block contains 60 trials, a single trial consists of a single image draw, and each block resamples from the entire set of 180 images."
   ]
  },
  {
   "cell_type": "markdown",
   "metadata": {},
   "source": [
    "1. On a single trial, what is the probability that the image will not be a face? Replace the `NULL` in the q1 code chunk with either mathematical notation or a single value. If entering a single value, give your answer to two decimal places."
   ]
  },
  {
   "cell_type": "code",
   "execution_count": null,
   "metadata": {},
   "outputs": [],
   "source": [
    "q1 <- NULL"
   ]
  },
  {
   "cell_type": "markdown",
   "metadata": {},
   "source": [
    "2. Over a sequence of 3 trials, with one image per trial, and sampled with replacement, what is the probability of the following sequence of images: house, house, noise? Replace the `NULL` in the q2 code chunk with mathematical notation.\n"
   ]
  },
  {
   "cell_type": "code",
   "execution_count": null,
   "metadata": {},
   "outputs": [],
   "source": [
    "q2 <- NULL"
   ]
  },
  {
   "cell_type": "markdown",
   "metadata": {},
   "source": [
    "3. Over a sequence of 3 trials, with one image per trial, without replacment, what is the probability of the following sequence of images: face, house, face? Replace the NULL in the q3 code chunk with mathematical notation."
   ]
  },
  {
   "cell_type": "code",
   "execution_count": null,
   "metadata": {},
   "outputs": [],
   "source": [
    "q3 <- NULL"
   ]
  },
  {
   "cell_type": "markdown",
   "metadata": {},
   "source": [
    "4. To test your experiment you run 1 block of your experiment and get concerned that you only saw 10 face images. As this is quite a low number out of a total of 60 you think something might be wrong. You decide to create a probability distribution for a given block of your experiment to test the likelihood of seeing a face (coded as 1) versus not seeing a face (coded as 0).\n",
    "\n",
    "    You start off with the code below but it is incomplete. Replace the `NULLS` with the correct value and statement to establish how many different numbers of faces you might see in 1 block of 60 trials, over 5000 replications. Replace `P1` and `P2` with the probabilities for not seeing a face and seeing a face, respectively."
   ]
  },
  {
   "cell_type": "code",
   "execution_count": null,
   "metadata": {},
   "outputs": [],
   "source": [
    "P1 <- NULL # probability of *not* seeing a face\n",
    "P2 <- NULL # probability of seeing a face\n",
    "blocks_5k <- replicate(n = NULL, \n",
    "                       sample(0:1, \n",
    "                              size = NULL, \n",
    "                              replace = NULL, \n",
    "                              c(P1, P2)) %>% \n",
    "                         sum())\n"
   ]
  },
  {
   "cell_type": "markdown",
   "metadata": {},
   "source": [
    "    Running the chunk below should produce a probability distribution of your data. Run it and see. If not, something has gone wrong in your code above."
   ]
  },
  {
   "cell_type": "code",
   "execution_count": null,
   "metadata": {},
   "outputs": [],
   "source": [
    "data5k <- tibble(faces_per_block = blocks_5k) %>% \n",
    "  count(faces_per_block) %>%\n",
    "  mutate(p = n / 5000)\n",
    "\n",
    "ggplot(data5k, aes(faces_per_block, p)) + #plot\n",
    "  geom_col() + \n",
    "  theme_light()"
   ]
  },
  {
   "cell_type": "markdown",
   "metadata": {},
   "source": [
    "    Extracting appropriately from the tibble, what was the probability of seeing only 10 faces in a block? Answer in the cell block below. "
   ]
  },
  {
   "cell_type": "code",
   "execution_count": null,
   "metadata": {},
   "outputs": [],
   "source": []
  },
  {
   "cell_type": "markdown",
   "metadata": {},
   "source": [
    "5. Based on the probability you calculated above, what does that say about whether our experiment is coded correctly or not?"
   ]
  },
  {
   "cell_type": "code",
   "execution_count": null,
   "metadata": {},
   "outputs": [],
   "source": []
  },
  {
   "cell_type": "markdown",
   "metadata": {},
   "source": [
    "**Thinking point 1** (not graded): can we use the binomial distribution to estimate probabilities for this experiment? Why or why not? \n",
    "\n",
    "**Thinking point 2** (not graded): Observe the graphical mean of the distribution that was graphed. Does it match up with the expected mean of a binomial distribution? (Review background on binomial distribution in lab)."
   ]
  },
  {
   "cell_type": "markdown",
   "metadata": {},
   "source": [
    "6. Using the appropriate `binom()` function, determine the actual probability of seeing exactly 10 'face' trials in a sequence of 60 trials.  \n"
   ]
  },
  {
   "cell_type": "code",
   "execution_count": null,
   "metadata": {},
   "outputs": [],
   "source": [
    "q6 <- NULL"
   ]
  },
  {
   "cell_type": "markdown",
   "metadata": {},
   "source": [
    "7. Using the appropriate `binom()` function, to three decimal places, type in the actual probability of seeing more than, but not including, 25 faces in a block of 60 trials? \n",
    "    **Hint: do we want the upper or lower tails of the distribution?**"
   ]
  },
  {
   "cell_type": "code",
   "execution_count": null,
   "metadata": {},
   "outputs": [],
   "source": [
    "q7 <- NULL"
   ]
  },
  {
   "cell_type": "markdown",
   "metadata": {},
   "source": [
    "8. Using the appropriate `binom()` function, enter the number of faces needed in a block of 60 trials that would cut off a lower tail probability of .05."
   ]
  },
  {
   "cell_type": "code",
   "execution_count": null,
   "metadata": {},
   "outputs": [],
   "source": [
    "q8 <- NULL"
   ]
  }
 ],
 "metadata": {
  "kernelspec": {
   "display_name": "R",
   "language": "R",
   "name": "ir"
  },
  "language_info": {
   "codemirror_mode": "r",
   "file_extension": ".r",
   "mimetype": "text/x-r-source",
   "name": "R",
   "pygments_lexer": "r",
   "version": "4.1.2"
  }
 },
 "nbformat": 4,
 "nbformat_minor": 4
}
