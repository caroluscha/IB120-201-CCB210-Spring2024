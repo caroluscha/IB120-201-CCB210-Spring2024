{
 "cells": [
  {
   "cell_type": "markdown",
   "metadata": {},
   "source": [
    "## Conditional Probability"
   ]
  },
  {
   "cell_type": "markdown",
   "metadata": {},
   "source": [
    "### An example"
   ]
  },
  {
   "cell_type": "markdown",
   "metadata": {},
   "source": [
    "A researcher is interested in evaluating how well a diagnostic test works for detecting renal disease in patients with high blood pressure. She performs the diagnostic test on 137 patients — 67 with known renal disease and 70 who are known to be healthy. The diagnostic test comes back either positive (the patient has renal disease) or negative (the patient does not have renal disease). Here are the results of her experiment:"
   ]
  },
  {
   "cell_type": "markdown",
   "metadata": {},
   "source": [
    "| Truth\\Results | Positive | Negative | Total | Percentage |\n",
    "| ----- | -------- | -------- | ----- | ---------- |\n",
    "| Renal Disease| 44 | 23 | 67 | 67/137 = P(D) = 0.489 |\n",
    "| Healthy |\t10 | 60 | 70 | 70/137 = P(H) = 0.511 |\n",
    "| Total | 54 | 83 | 137 | 137/137 = 1 |\n",
    "| Percentage | 54/137 = P(T+) = 0.394 | 83/137 = P(T-) = 0.606 | 137/137 = 1 |"
   ]
  },
  {
   "cell_type": "markdown",
   "metadata": {},
   "source": [
    "$P(T+) = \\frac{54}{137}$, because, of the 137 patients, 54 tested positive. "
   ]
  },
  {
   "cell_type": "markdown",
   "metadata": {},
   "source": [
    "$P(D) = \\frac{67}{137}$, because, of the 137 patients, 67 are truly diseased."
   ]
  },
  {
   "cell_type": "markdown",
   "metadata": {},
   "source": [
    "$P(H)+P(D) = 1$ and $P(T+)+P(T-) = 1$."
   ]
  },
  {
   "cell_type": "markdown",
   "metadata": {},
   "source": [
    "<span style=\"color:red\">If a person has renal disease</span>, <span style=\"color:green\">what is the probability that he/she tests positive for the disease?</span>"
   ]
  },
  {
   "cell_type": "markdown",
   "metadata": {},
   "source": [
    "$P(T+|D) = ?$\n"
   ]
  },
  {
   "cell_type": "markdown",
   "metadata": {},
   "source": [
    "The conditional probability of an event A given that an event B has occurred is written: $P(A|B)$\n",
    "\n",
    "and is calculated using: $P(A|B) = \\frac{P(A \\bigcap B)}{P(B)}$, as long as $P(B) >0$."
   ]
  },
  {
   "cell_type": "markdown",
   "metadata": {},
   "source": [
    "$P(T+|D) = \\frac{P(T+ \\bigcap D)}{P(D)} = \\frac{ }{ }$"
   ]
  },
  {
   "cell_type": "markdown",
   "metadata": {},
   "source": [
    "| Truth\\Results | Positive | Negative | Total |\n",
    "| ----- | -------- | -------- | ----- |\n",
    "| Renal Disease| 44 | 23 | 67 |\n",
    "| Healthy |\t10 | 60 | 70 |\n",
    "| Total | 54 | 83 | 137 |"
   ]
  },
  {
   "cell_type": "markdown",
   "metadata": {},
   "source": [
    "**Sensitivity** of a diagnostic test: \"If a person has renal disease, what is the probability of testing positive?\" "
   ]
  },
  {
   "cell_type": "markdown",
   "metadata": {},
   "source": [
    "**Positive predictive value** of a diagnostic test: \"If I receive a positive test, what is the probability that I actually have the disease?\""
   ]
  },
  {
   "cell_type": "markdown",
   "metadata": {},
   "source": [
    "Let's use the formal mathematical definition of conditional probabilities to calculate the positive predictive value:\n",
    "\n",
    "$P(D|T+) = \\frac{P(D \\bigcap T+)}{P(T+)} = \\frac{ }{ }$"
   ]
  },
  {
   "cell_type": "markdown",
   "metadata": {},
   "source": [
    "---\n",
    "### Questions\n",
    "\n",
    "A box contains 6 white balls and 4 red balls. We randomly (and without replacement) draw two balls from the box. "
   ]
  },
  {
   "cell_type": "markdown",
   "metadata": {},
   "source": [
    "1. What is the probability that the second ball selected is red, given that the first ball selected is white?"
   ]
  },
  {
   "cell_type": "markdown",
   "metadata": {},
   "source": [
    "2. What is the probability that both balls selected are red?"
   ]
  },
  {
   "cell_type": "markdown",
   "metadata": {},
   "source": [
    "---\n",
    "### Multiplication Rule\n",
    "$P(A \\bigcap B) = P(B) \\times P(A|B)$ or\n",
    "\n",
    "$P(A \\bigcap B) = P(A) \\times P(B|A)$"
   ]
  },
  {
   "cell_type": "markdown",
   "metadata": {},
   "source": [
    "## Independence"
   ]
  },
  {
   "cell_type": "markdown",
   "metadata": {},
   "source": [
    "Events A and B are **independent events** if the occurrence of one of them does not affect the probability of the occurrence of the other. That is, two events are independent if either:\n",
    "* $P(A|B) = P(A)$, or\n",
    "* $P(B|A) = P(B)$"
   ]
  },
  {
   "cell_type": "markdown",
   "metadata": {},
   "source": [
    "Since independence tells us that $P(B|A) = P(B)$, we can substitute $P(B)$ in for $P(B|A)$ in the formula given to us by the multiplication rule:\n",
    "\n",
    "$P(A \\bigcap B) = P(A) \\times P(B)$ "
   ]
  },
  {
   "cell_type": "markdown",
   "metadata": {},
   "source": [
    "So this substitution leads us to an alternative definition of independence.\n",
    "\n",
    "Events A and B are **independent events** if and only if $P(A \\bigcap B) = P(A) \\times P(B)$\n",
    "\n",
    "The \"if and only if\" (often written as \"iff\") in that definition means that the if-then statement works in both directions. That is, the definition tells us two things:\n",
    "* If events A and B are independent, then $P(A \\bigcap B) = P(A) \\times P(B)$\n",
    "* If $P(A \\bigcap B) = P(A) \\times P(B)$, then events A and B are independent"
   ]
  },
  {
   "cell_type": "markdown",
   "metadata": {},
   "source": [
    "## Bayes Rules!"
   ]
  },
  {
   "cell_type": "markdown",
   "metadata": {},
   "source": [
    "### An example"
   ]
  },
  {
   "cell_type": "markdown",
   "metadata": {},
   "source": [
    "A desk lamp produced by The Luminar Company was found to be defective (D). There are three factories (A, B, C) where such desk lamps are manufactured. A Quality Control Manager (QCM) is responsible for investigating the source of found defects. This is what the QCM knows about the company's desk lamp production and the possible source of defects:"
   ]
  },
  {
   "cell_type": "markdown",
   "metadata": {},
   "source": [
    "| Factory | % of Total Production | Probability of Defective Lamps |\n",
    "| ------- | --------------------- | ------------------------------ |\n",
    "| A | 0.35 = P(A) | 0.015 = P(D\\|A) |\n",
    "| B | 0.35 = P(B) | 0.010 = P(D\\|B) |\n",
    "| C | 0.30 = P(C) | 0.020 = P(D\\|C) |"
   ]
  },
  {
   "cell_type": "markdown",
   "metadata": {},
   "source": [
    "The QCM would like to answer the following question: If a randomly selected lamp is defective, what is the probability that the lamp was manufactured in factory C, written as $P(C|D)$?"
   ]
  },
  {
   "cell_type": "markdown",
   "metadata": {},
   "source": [
    "$P(C|D) = \\frac{P(C \\bigcap D)}{P(D)}$\n",
    "\n",
    "$P(C|D) = \\frac{P(C)\\times P(D|C)}{P(D)} = \\frac{0.30\\times0.020}{P(D)}$.\n",
    "\n",
    "$P(D) = P[(A \\bigcap D) \\bigcup (B \\bigcap D) \\bigcup (C \\bigcap D)]$. \n",
    "\n",
    "$P(D) = P(D|A)P(A) + P(D|B)P(B) + P(D|C)P(C) = 0.015(0.35) + 0.010(0.35) + 0.020(0.30) = 0.01475$. Then, $P(C|D) = \\frac{0.30\\times0.020}{0.01475} = 0.407$."
   ]
  },
  {
   "cell_type": "markdown",
   "metadata": {},
   "source": [
    "---\n",
    "### Questions"
   ]
  },
  {
   "cell_type": "markdown",
   "metadata": {},
   "source": [
    "* Now, if a randomly selected lamp is defective, what is the probability that the lamp was manufactured in factory A?\n",
    "\n",
    "* And, if a randomly selected lamp is defective, what is the probability that the lamp was manufactured in factory B?\n",
    "\n",
    "(Note: these will be simpler since we've already calculated $P(D)$)"
   ]
  },
  {
   "cell_type": "markdown",
   "metadata": {},
   "source": [
    "---\n",
    "**Bayes' Theorem**, or Bayes' Rule:\n",
    "\n",
    "$P(A|B) = \\frac{P(B|A)P(A)}{P(B)}$\n",
    "\n",
    "$P(A)$ in this theorem is referred to as the **prior probability**, because it is the probability of an event $A$ that we know *prior* to obtaining any additional information. In the defective lamps example above, $P(A)$, $P(B)$, and $P(C)$ are our *prior probabilities*. \n",
    "\n",
    "$P(B|A)$ is still referred to as the **conditional probability**. In the defective lamps example, $P(D|A), P(D|B), P(D|C)$ were each *conditional probabilities*.\n",
    "\n",
    "$P(B)$ is called the **marginal probability**. This again goes back to our very first example in today's lesson, where if we add up all the probabilities for each outcome of a random variable, *given* a particular outcome of a separate random variable, it'll give us the *marginal probability*. In the defective lamps example, $P(D)$ is our *marginal probability*, because $P(D) = P[(A \\bigcap D) \\bigcup (B \\bigcap D) \\bigcup (C \\bigcap D)]$ ($D$ is the particular outcome of a random variable (let's say \"lamp health\", the alternative is not defective), and $A, B, C$ are all possible outcomes for the random variable \"factory\").\n",
    "\n",
    "The first term of the theorem, $P(A|B)$ is referred to as the **posterior probability**, because it is the probability of an event after (\"post\") we have obtained additional information. In the defective lamps example, $P(A|D), P(B|D), P(C|D)$ were each *posterior probabilities*. Again note that for a given outcome of a random variable, the sum of posterior probabilities for that outcome will also sum to 1."
   ]
  },
  {
   "cell_type": "markdown",
   "metadata": {},
   "source": [
    "## Combinatorics"
   ]
  },
  {
   "cell_type": "markdown",
   "metadata": {},
   "source": [
    "### Multiplication Principle"
   ]
  },
  {
   "cell_type": "markdown",
   "metadata": {},
   "source": [
    "If there are:\n",
    "\n",
    "* $n_1$ outcomes of a random experiment $E_1$\n",
    "* $n_2$ outcomes of a random experiment $E_2$  \n",
    ".\n",
    ".\n",
    ".\n",
    "* and $n_m$ outcomes of a random experiment $E_m$\n",
    "\n",
    "then there are $n_1 \\times n_2 \\times ... \\times n_m$ outcomes of the composite experiment $E_1E_2...E_m$.\n",
    "\n"
   ]
  },
  {
   "cell_type": "markdown",
   "metadata": {},
   "source": [
    "### Examples"
   ]
  },
  {
   "cell_type": "markdown",
   "metadata": {},
   "source": [
    "*Example 1*\n",
    "\n",
    "You roll a fair six-sided die and toss a fair coin. You want to calculate the probability that you'll get a 6 on the die and a heads on the coin.  \n",
    "\n",
    "$P(A) = \\frac{N(A)}{N(S)}$,\n",
    "\n",
    "$N(A) = 1$, $N(S) = 6(12)$\n",
    "\n",
    "$P(A) = 1/12$."
   ]
  },
  {
   "cell_type": "markdown",
   "metadata": {},
   "source": [
    "*Example 2*\n",
    "\n",
    "How many possible license plates could be stamped if each license plate were required to have exactly 3 letters and 4 numbers? "
   ]
  },
  {
   "cell_type": "markdown",
   "metadata": {},
   "source": [
    "*Example 3*\n",
    "\n",
    "How many *unordered* (where the ordering doesn't matter) subsets are possible out of a set of 3 elements? Let's suppose that the ten elements are the numbers 1 through 3: 1, 2, 3\n",
    "\n",
    "**{} 1 2 3 12 13** 21 **23** 31 32 **123** 132 213 231 312 321\n"
   ]
  },
  {
   "cell_type": "markdown",
   "metadata": {},
   "source": [
    "---\n",
    "### Questions"
   ]
  },
  {
   "cell_type": "markdown",
   "metadata": {},
   "source": [
    "How many possible license plates could be stamped if each license plate were required to have 3 *unique* letters and 4 *unique* numbers? (can just leave it as a product)"
   ]
  },
  {
   "cell_type": "markdown",
   "metadata": {},
   "source": [
    "\n",
    "How many unordered subsets are possible out of a set of 10 elements? Let's suppose that the ten elements are the letters A through J: A, B, C, D, E, F, G, H, I, J."
   ]
  },
  {
   "cell_type": "markdown",
   "metadata": {},
   "source": [
    "### Permutations"
   ]
  },
  {
   "cell_type": "markdown",
   "metadata": {},
   "source": [
    "A principle related to the Multiplication Principle is **permutations**. A permutation is defined as an *ordered* arrangement of *n* different objects in *r* positions, when $r \\leq n$. The number of such permutations is: \n",
    "\n",
    "$_{n}P_{r} = \\frac{n!}{(n-r)!}$\n",
    "\n",
    "This is read as \"n permute r\". The subscripted *n* represents the number of objects you are wanting to arrange, while the subscripted *r* represents the number of positions you have for the objects to fill.\n",
    "\n",
    "[Recall that $n!$ (read as \"n factorial\") is defined as the product of all whole numbers less than n and including n itself.]\n",
    "\n",
    "---\n",
    "We can see that the above formal definition of permutations is true through the Multiplication Principle:\n",
    "\n",
    "Suppose there are *r* positions to be filled with *n* different objects, in which there are:\n",
    "* *n* choices for the 1st position\n",
    "* *n-1* choices for the 2nd position\n",
    "* *n-2* choices for the 3rd position  \n",
    ".\n",
    ".\n",
    ".\n",
    "\n",
    "* and *n-(r-1)* choices for the last position\n",
    "\n",
    "The Multiplication Principle tells us there are in general: $n\\times(n-1)\\times(n-2)\\times...\\times[n-(r-1)]$ ways of filling the  positions. This can be proven (but I'm not going to - you can look up the proof if you reallyyyyyyy want to know) that this can be simplified to $\\frac{n!}{(n-r)!}$.\n"
   ]
  },
  {
   "cell_type": "markdown",
   "metadata": {},
   "source": [
    "---\n",
    "### Examples"
   ]
  },
  {
   "cell_type": "markdown",
   "metadata": {},
   "source": [
    "*Example 1*\n",
    "\n",
    "Let's look at an example when $r=n$.\n",
    "\n",
    "In how many ways can 7 different books be arranged on a shelf? (Since the shelf doesn't have positions, we can assume we want all books on the shelf.) We can use the Multiplication Principle, or alternatively, the permutations approach:\n",
    "\n",
    "$_7P_7 = \\frac{n!}{(n-r)!} = \\frac{7!}{0!} = 7! = 5040$\n",
    "\n",
    "**\"Whaaaaaaat?!\"**, you scream. Shouldn't $0!$ be 0??? Nope. It is 1. Remember this. Here's a fun, simple proof of this fact: https://www.chilimath.com/lessons/intermediate-algebra/zero-factorial/"
   ]
  },
  {
   "cell_type": "markdown",
   "metadata": {},
   "source": [
    "*Example 2*\n",
    "\n",
    "How about when $r<n$?\n",
    "\n",
    "How many ways can 4 people fill 3 chairs?\n",
    "\n",
    "$_4P_3 = \\frac{4!}{1!} = 4! = 4 \\times 3 \\times 2 \\times 1 = 24$ possible ways to fill chairs. "
   ]
  },
  {
   "cell_type": "markdown",
   "metadata": {},
   "source": [
    "---\n",
    "### Questions"
   ]
  },
  {
   "cell_type": "markdown",
   "metadata": {},
   "source": [
    "An artist has 9 paintings. How many ways can he hang 4 paintings side-by-side on a gallery wall? (can just leave it as a product)"
   ]
  },
  {
   "cell_type": "markdown",
   "metadata": {},
   "source": [
    "---\n",
    "### Combinations"
   ]
  },
  {
   "cell_type": "markdown",
   "metadata": {},
   "source": [
    "A **combination** is defined as the number of *unordered subsets* for *n* objects taken *r* at a time, which can be calculated as such:\n",
    "\n",
    "$_nC_r = {n \\choose r} = \\frac{n!}{r!(n-r)!}$\n",
    "\n",
    "This is read as \"n choose r\". The ${n \\choose r}$ is called the \"binomial coefficient\". The $r$ represents the number of objects you'd like to select (without replacement and without regard to order) from the $n$ objects you have."
   ]
  },
  {
   "cell_type": "markdown",
   "metadata": {},
   "source": [
    "### Examples"
   ]
  },
  {
   "cell_type": "markdown",
   "metadata": {},
   "source": [
    "*Example 1*\n",
    "\n",
    "You have 3 tickets for a concert. You want to use one for yourself. You can offer the other 2 to any of four friends (A, B, C, D). How many ways can 2 people be selected from 4 to go to a concert?\n",
    "\n",
    "A-B | B-A | B-C | C-B  \n",
    "A-C | C-A | B-D | D-B  \n",
    "A-D | D-A | C-D | D-C\n",
    "\n",
    "$_4P_2 = \\frac{4!}{2!} = 4\\times3 = 12$.\n",
    "\n",
    "A-B | B-C  \n",
    "A-C | B-D  \n",
    "A-D | C-D\n",
    "\n",
    "$_4C_2 = {4 \\choose 2} = \\frac{4!}{2!2!} = \\frac{24}{4} = 6$. This checks out."
   ]
  },
  {
   "cell_type": "markdown",
   "metadata": {},
   "source": [
    "*Example 2*\n",
    "\n",
    "Twelve (12) patients are available for use in a research study. Only seven (7) should be assigned to receive the study treatment. How many different subsets of seven patients can be selected?\n",
    "\n",
    "$_{12}C_7 = {12 \\choose 7} = \\frac{12!}{7!5!} = 792$"
   ]
  },
  {
   "cell_type": "markdown",
   "metadata": {},
   "source": [
    "---\n",
    "### Questions\n",
    "\n",
    "(You can leave the answers in binomial coefficient form.)"
   ]
  },
  {
   "cell_type": "markdown",
   "metadata": {},
   "source": [
    "Let's use a standard deck of cards containing 13 face values (Ace, 2, 3, 4, 5, 6, 7, 8, 9, 10, Jack, Queen, and King) and 4 different suits (Clubs, Diamonds, Hearts, and Spades) to play five-card poker. If you are dealt five cards, what is the probability of getting a full-house hand containing three kings and two aces (KKKAA)?\n",
    "\n",
    "**Hint:** It's asking for *probability*, so think of the classical approach to probability: $P(A) = \\frac{N(A)}{N(S)}$ as described earlier today. Then we can break this problem down into two parts - figuring out how to *count* the number of ways we can get (KKKAA), and how to count the denominator. "
   ]
  },
  {
   "cell_type": "markdown",
   "metadata": {},
   "source": [
    "### Assignment"
   ]
  },
  {
   "cell_type": "markdown",
   "metadata": {},
   "source": [
    "A couple plans to have 3 children. Letting 'G' denote girl and 'B' denote boy, the sample space of the sex of the couple's three children looks like this: {GGG, GGB, GBG, BGG, BBG, BGB, GBB, BBB}. By simply counting the number of outcomes in the sample space that are relevant, answer the following questions 1-3:"
   ]
  },
  {
   "cell_type": "markdown",
   "metadata": {},
   "source": [
    "1. What is the probability that the first child is a girl? (I'll refer to this as event A) What is the probability that the second child is a girl? (I'll refer to this as event B)"
   ]
  },
  {
   "cell_type": "markdown",
   "metadata": {},
   "source": [
    "2. What is the probability that the second child is a girl, given that the first child is a girl?"
   ]
  },
  {
   "cell_type": "markdown",
   "metadata": {},
   "source": [
    "3. Using the definition of conditional probability, confirm your answer in part 3. Are A & B independent? Briefly explain why or why not."
   ]
  },
  {
   "cell_type": "markdown",
   "metadata": {},
   "source": [
    "Answer parts 4-6 based on the following: Suppose we have a test for the flu that is positive 90% of the time when tested on a flu patient, and is negative 95% of the time when tested on a healthy person. We also know that the flu is affecting about 1% of the population. Assume a total population of 100,000 for the study."
   ]
  },
  {
   "cell_type": "markdown",
   "metadata": {},
   "source": [
    "4. Build a contingency table from the information above. Let:  \n",
    "T+ : positive test  \n",
    "T- : negative test  \n",
    "D : (truly) positive for the flu  \n",
    "H : (truly) negative for the flu (healthy) "
   ]
  },
  {
   "cell_type": "markdown",
   "metadata": {},
   "source": [
    "| Truth\\Results | T+ | T- | Total | \n",
    "| ----- | -------- | -------- | ----- |\n",
    "| D|  |  |  | \n",
    "| H | |  |  | \n",
    "| Total | | | 100,000 | \n"
   ]
  },
  {
   "cell_type": "code",
   "execution_count": 3,
   "metadata": {},
   "outputs": [
    {
     "name": "stdout",
     "output_type": "stream",
     "text": [
      "  T.pos T.neg\n",
      "D    NA    NA\n",
      "H    NA    NA\n"
     ]
    }
   ],
   "source": [
    "table <- data.frame('T.pos' = c(NA, NA), 'T.neg' = c(NA, NA), row.names = c(\"D\", \"H\"))\n",
    "tPos_D <- NA\n",
    "tPos_H <- NA\n",
    "tNeg_D <- NA\n",
    "tNeg_H <- NA\n",
    "\n",
    "table$T.pos[1] <- tPos_D\n",
    "table$T.pos[2] <- tPos_H\n",
    "table$T.neg[1] <- tNeg_D\n",
    "table$T.neg[2] <- tNeg_H\n",
    "\n",
    "print(table)"
   ]
  },
  {
   "cell_type": "markdown",
   "metadata": {},
   "source": [
    "5. What is the probability of a false positive?"
   ]
  },
  {
   "cell_type": "markdown",
   "metadata": {},
   "source": [
    "6. What is the positive predictive value?"
   ]
  },
  {
   "cell_type": "markdown",
   "metadata": {},
   "source": [
    "7. In how many ways can 4 married couples attending a concert be seated in a row of 8 seats if there are no restrictions as to where the 8 can sit?"
   ]
  },
  {
   "cell_type": "markdown",
   "metadata": {},
   "source": [
    "8. In how many ways can 4 married couples attending a concert be seated in a row of 8 seats if each married couple is seated together?"
   ]
  },
  {
   "cell_type": "markdown",
   "metadata": {},
   "source": [
    "9. Assuming all couples are M-F, how many ways can 4 married couples attending a concert be seated in a row of 8 seats if members of the same sex are all seated next to each other?"
   ]
  },
  {
   "cell_type": "markdown",
   "metadata": {},
   "source": [
    "10. If you are dealt five cards, what is the probability of getting any full-house hand? (a hand containing three of a kind and two of a kind)\n",
    "\n",
    "**Hint:** Think back to the example from lab. Also keep in mind, in this question, we are not only counting the number of ways of choosing 3 or 2 for each face value, but also counting the ways we can select particular face values.  "
   ]
  }
 ],
 "metadata": {
  "kernelspec": {
   "display_name": "R",
   "language": "R",
   "name": "ir"
  },
  "language_info": {
   "codemirror_mode": "r",
   "file_extension": ".r",
   "mimetype": "text/x-r-source",
   "name": "R",
   "pygments_lexer": "r",
   "version": "4.1.2"
  }
 },
 "nbformat": 4,
 "nbformat_minor": 4
}
