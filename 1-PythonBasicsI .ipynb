{
 "cells": [
  {
   "cell_type": "markdown",
   "metadata": {},
   "source": [
    "# Lab 1 - Python Basics"
   ]
  },
  {
   "cell_type": "markdown",
   "metadata": {},
   "source": [
    "## Background"
   ]
  },
  {
   "cell_type": "markdown",
   "metadata": {},
   "source": [
    "### R & RStudio\n",
    "R is a programming language that is well-suited for statistical analysis and working with\n",
    "large datasets. The best way to use R is in an integrated development environment (IDE)\n",
    "called Rstudio, where one could simultaneously view and control the code, command\n",
    "prompt, variables, directory, and  gures."
   ]
  },
  {
   "cell_type": "markdown",
   "metadata": {},
   "source": [
    "### Python\n",
    "Python is an all-purpose programming language that is suited for a variety of tasks and\n",
    "functionalities (e.g. machine learning to applications with graphical user interfaces). It is\n",
    "known for its intuitive syntax, simplicity, and open-source support. There are many\n",
    "environments and methods possible to run Python code, and we will  rst learn how to\n",
    "execute Python code by familiarizing oneself with the command line. A decent interactive\n",
    "development environment for Python is PyTorch, among many others. It provides an\n",
    "iPython interactive command line, meaning that one can execute code with Python syntax\n",
    "through the console, analogous to RStudio."
   ]
  },
  {
   "cell_type": "markdown",
   "metadata": {},
   "source": [
    "### JupyterHub\n",
    "Nowadays, most data scientists write python code in a notebook, meaning that there are\n",
    "chunks of code executed in a chronological order and output is presented right below the\n",
    "chunk of code. The advantage of notebooks is that debugging becomes much easier and it\n",
    "allows for easier dissection and understanding of one's work\n",
    "ow. Typically, these are called\n",
    "Jupyter notebooks because it was originally developed an organization called Project\n",
    "Jupyter and the code is run on a server that is either instantiated locally or located\n",
    "remotely. For an example, see this link."
   ]
  },
  {
   "cell_type": "markdown",
   "metadata": {},
   "source": [
    "### Terminal \n",
    "The terminal is an interface in which you can type and execute text based commands. It\n",
    "can be much faster to complete some tasks using a terminal than with graphical\n",
    "applications and menus. Another bene t is allowing access to many more commands and\n",
    "scripts. Recall some of the basic functions that were shown at the beginning of lab: 'cd',\n",
    "'ls', and 'cat'. 'cd', short for 'change directory' allows you to navigate your local or remote\n",
    "computer. You can change the directory one folder at a time, or list several subdirectories,\n",
    "separating them with a '/'. 'ls', abbreviated for 'list', shows you all  les, folders, and\n",
    "1\n",
    "applications that exist within your current directory. If you don't want to change your\n",
    "directory and simply look at the contents of a particular directory, you can use this\n",
    "command, followed by the name of the directory, to see what's inside. Finally, 'cat', short\n",
    "for 'concatenate', allows you to read text  les without having to open them."
   ]
  },
  {
   "cell_type": "markdown",
   "metadata": {},
   "source": [
    "# Python Basics I\n",
    "\n",
    "## Printing and Commenting"
   ]
  },
  {
   "cell_type": "code",
   "execution_count": null,
   "metadata": {
    "code_folding": [
     0
    ]
   },
   "outputs": [],
   "source": [
    "#Your first python program!\n",
    "\n",
    "\"\"\"\n",
    "this is your first python program!\n",
    "it doesn't do much... \n",
    "\"\"\"\n",
    "print?\n",
    "print(\"Hello World!\")"
   ]
  },
  {
   "cell_type": "code",
   "execution_count": null,
   "metadata": {
    "code_folding": [
     0
    ]
   },
   "outputs": [],
   "source": [
    "## code can be commented either by prefixing a line with a #\n",
    "\n",
    "\"\"\"\n",
    "or by inserting multiple lines of text \n",
    "in between triple quotation blocks like this\n",
    "\"\"\"\n",
    "\n",
    "print(\"this code is run\") #the code before this comment is run\n",
    "\n",
    "#print(\"this code is not run\")\n",
    "\n",
    "print(\"a # inside quotes is just fine though\")"
   ]
  },
  {
   "cell_type": "code",
   "execution_count": null,
   "metadata": {
    "code_folding": [
     0
    ],
    "scrolled": false
   },
   "outputs": [],
   "source": [
    "## printing multiple things\n",
    "\"\"\"\n",
    "The print function can take in multiple arguments and will\n",
    "concatenate the string separated by spaces\n",
    "\"\"\"\n",
    "\n",
    "print(\"we can print out numbers too like\", 51, \"or\", 42)"
   ]
  },
  {
   "cell_type": "markdown",
   "metadata": {},
   "source": [
    "## Simple math, variables, and logic"
   ]
  },
  {
   "cell_type": "code",
   "execution_count": null,
   "metadata": {
    "code_folding": [
     0
    ]
   },
   "outputs": [],
   "source": [
    "# 1 simple math and variables\n",
    "\"\"\"\n",
    "Math is pretty straightforward in python3\n",
    "\n",
    "we can use all the normal symbols\n",
    "\n",
    "+: plus\n",
    "-: minus\n",
    "/: divide\n",
    "*: times\n",
    "%: modulo\n",
    "<: less than\n",
    ">: greater than\n",
    "<=: less than or equal to\n",
    ">=: greater than or equal to\n",
    "\n",
    "==: equivalence\n",
    "!=: non-equivalence\n",
    "\n",
    "https://docs.python.org/3/library/stdtypes.html#numeric-types-int-float-complex\n",
    "\n",
    "\"\"\"\n",
    "print(\"13*2 =\", 13*2)\n",
    "print(\"13+2 =\", 13+2)\n",
    "print(\"30/2 =\", 30/2)"
   ]
  },
  {
   "cell_type": "code",
   "execution_count": null,
   "metadata": {
    "code_folding": [
     0
    ]
   },
   "outputs": [],
   "source": [
    "## floats vs integers\n",
    "\n",
    "print(type(13+2)) \n",
    "print(type(30/2))\n",
    "print((30/2)==(13+2)) # fortunately python is smart enough to compare integers and floats\n"
   ]
  },
  {
   "cell_type": "code",
   "execution_count": null,
   "metadata": {
    "code_folding": [
     0
    ]
   },
   "outputs": [],
   "source": [
    "## the modulo operator\n",
    "\"\"\"\n",
    "# the '%' modulo operator gives the remainder \n",
    "e.g. 10 % 4 = 2 , the remainder of 10/4 is 2 \n",
    "useful for finding even / odd numbers or counting by \"k\"\n",
    "\"\"\"\n",
    "\n",
    "print(1%2, 2%2, 3%2, 4%2) \n"
   ]
  },
  {
   "cell_type": "code",
   "execution_count": null,
   "metadata": {
    "code_folding": [
     0
    ]
   },
   "outputs": [],
   "source": [
    "## The += operator\n",
    "\n",
    "\"\"\"\n",
    "The operation of incrementing a number by some fixed value\n",
    "e.g. by 1, is so common that there is a shorthand for it\n",
    "\n",
    "+=x : increment by x\n",
    "\"\"\"\n",
    "\n",
    "x=2\n",
    "print(x)\n",
    "x=x+1\n",
    "print(x)\n",
    "x+=1\n",
    "print(x)"
   ]
  },
  {
   "cell_type": "code",
   "execution_count": null,
   "metadata": {
    "code_folding": [
     0
    ]
   },
   "outputs": [],
   "source": [
    "## Variables\n",
    "\"\"\"\n",
    "variables can be assigned with the \"=\" operator\n",
    "\"\"\"\n",
    "\n",
    "x=5\n",
    "y=3\n",
    "z=x*y/2\n",
    "print(z)"
   ]
  },
  {
   "cell_type": "code",
   "execution_count": null,
   "metadata": {
    "code_folding": [
     0
    ]
   },
   "outputs": [],
   "source": [
    "## Assignment versus equivalence\n",
    "\"\"\"\n",
    "it is CRITICAL to understand the difference between \"=\" and \"==\"\n",
    "\"\"\"\n",
    "\n",
    "x=10\n",
    "print(x==5)\n",
    "\n",
    "#print(x=5) #This will fail!\n",
    "\n",
    "x=5\n",
    "print(x==5)\n",
    "print(x!=5)"
   ]
  },
  {
   "cell_type": "code",
   "execution_count": null,
   "metadata": {
    "code_folding": [
     0
    ]
   },
   "outputs": [],
   "source": [
    "## Boolean logic\n",
    "\"\"\"\n",
    "simple boolean logic can be performed using english words\n",
    "\"\"\"\n",
    "\n",
    "t = True\n",
    "f = False\n",
    "\n",
    "print(type(t)) # \"<class 'bool'>\"\n",
    "print(t and f) # Logical AND; prints \"False\"\n",
    "print(t or f)  # Logical OR; prints \"True\"\n",
    "print(not t)   # Logical NOT; prints \"False\"\n"
   ]
  },
  {
   "cell_type": "markdown",
   "metadata": {},
   "source": [
    "## Strings (PAUSE!)"
   ]
  },
  {
   "cell_type": "code",
   "execution_count": null,
   "metadata": {
    "code_folding": [
     0
    ]
   },
   "outputs": [],
   "source": [
    "## Strings\n",
    "\n",
    "x = \"IB120\"\n",
    "print(x)\n",
    "print(len(x))  # String length; prints \"5\""
   ]
  },
  {
   "cell_type": "code",
   "execution_count": null,
   "metadata": {
    "code_folding": [
     0
    ]
   },
   "outputs": [],
   "source": [
    "## String formatting\n",
    "\n",
    "x=\"IB120\"\n",
    "IB201_ranking = 1\n",
    "\n",
    "complex_string = \"{v1} is my number {v2} class!\".format(v1=x, v2=IB201_ranking)\n",
    "\n",
    "print(complex_string)\n",
    "\n"
   ]
  },
  {
   "cell_type": "code",
   "execution_count": null,
   "metadata": {
    "code_folding": [
     0
    ],
    "scrolled": true
   },
   "outputs": [],
   "source": [
    "## String operations\n",
    "\"\"\"\n",
    "there are all kinds of operations that can be \n",
    "run on strings that are super helpful\n",
    "\n",
    "https://docs.python.org/3/library/stdtypes.html#string-methods\n",
    "\"\"\"\n",
    "\n",
    "s = \"hello\"\n",
    "print(s.upper())  # Convert a string to uppercase; prints \"HELLO\"\n",
    "print(s.replace('l', '(l)'))  # Replace all instances of one substring with another;\n",
    "print('--TEXT--'.rstrip(\"-\"))  # Strip trailing characters\n",
    "print('--TEXT--'.lstrip(\"-\"))  # Strip leading characters\n",
    "print('--TEXT--'.strip(\"-\"))  # Strip leading and trailing characters\n",
    "print(len('--TEXT--'))  # what is the length of this string?"
   ]
  },
  {
   "cell_type": "markdown",
   "metadata": {},
   "source": [
    "## Containers: lists and dictionaries"
   ]
  },
  {
   "cell_type": "code",
   "execution_count": null,
   "metadata": {
    "code_folding": [
     0
    ]
   },
   "outputs": [],
   "source": [
    "#1.4 Containers - lists\n",
    "\"\"\"\n",
    "lists are ordered arrays of elements\n",
    "in some languages this type is called an array\n",
    "\"\"\"\n",
    "\n",
    "xs = [9, 5, 12] # Create a list\n",
    "print(xs)\n",
    "\n",
    "xs.append(201)  # add an element to the end of the list\n",
    "print(xs)\n",
    "\n",
    "element = xs.pop() # pop an element off the end of a list returning it\n",
    "print(element)\n",
    "print(xs)\n"
   ]
  },
  {
   "cell_type": "code",
   "execution_count": null,
   "metadata": {
    "code_folding": [
     0
    ]
   },
   "outputs": [],
   "source": [
    "## list subsetting\n",
    "\n",
    "xs = [5,7,1,9]\n",
    "print(xs[1])   # indexing starts at 0! (UNLIKE R!!!)\n",
    "\n",
    "print(xs[-1])  # Negative indices count back from the end of a list\n",
    "print(xs[3])\n"
   ]
  },
  {
   "cell_type": "code",
   "execution_count": null,
   "metadata": {
    "code_folding": [
     0
    ]
   },
   "outputs": [],
   "source": [
    "## list slicing\n",
    "\n",
    "xs = [5, 7, 1, 9, 201]\n",
    "\n",
    "print(xs[2:4])        # Get a slice from index 2 to 4 - exclusive! ie, includes elements 2 and 3, not 4\n",
    "print(xs[2:])         # Get a slice from index 2 to the end; \n",
    "print(xs[:2])         # Get a slice from the start to index 2, doesn't include element 2\n",
    "\n",
    "print(xs[:-1])        # negative slices, all but last element\n",
    "print(xs[:-2])        # negative slices, all but last two elements\n"
   ]
  },
  {
   "cell_type": "code",
   "execution_count": null,
   "metadata": {
    "code_folding": [
     0
    ]
   },
   "outputs": [],
   "source": [
    "## super slicing\n",
    "\"\"\"\n",
    "    array[start:end:step] <-- formatting\n",
    "\"\"\"\n",
    "\n",
    "xs = [\"a\", \"b\", \"c\", \"d\", \"e\"]\n",
    "x = \"abcde\"\n",
    "\n",
    "print(xs)\n",
    "print(xs[::])     #the whole list\n",
    "print(xs[::2])    #every second element\n",
    "print(xs[2::2])    #every second element starting at element 1\n",
    "print(xs[::-1])   #reverse the list\n",
    "print(xs[:1:-1]) #reverse the list, and stop at element 1\n",
    "\n",
    "x.split?"
   ]
  },
  {
   "cell_type": "code",
   "execution_count": null,
   "metadata": {
    "code_folding": [
     0
    ]
   },
   "outputs": [],
   "source": [
    "## list operations\n",
    "\n",
    "xs = [5, 7, 1, 9, 201]\n",
    "\n",
    "print(19 in xs)       #is 19 in the list?\n",
    "print(9 in xs)        #is 9 in the  list?  \n",
    "print(xs.index(9))    #where is 9?\n",
    "\n",
    "print(min(xs))        #the minimum element\n",
    "print(max(xs))        #the maximum element\n"
   ]
  },
  {
   "cell_type": "code",
   "execution_count": null,
   "metadata": {
    "code_folding": [
     0
    ]
   },
   "outputs": [],
   "source": [
    "## list concatenation\n",
    "\n",
    "x1 = [1,2,3]\n",
    "x2 = [4, 5, 6]\n",
    "\n",
    "joined_list = x1 + x2\n",
    "\n",
    "print(joined_list)\n",
    "\n",
    "x3 = list(range(20)) ## range() generates a sequence; range(start, stop, step)\n",
    "print(x3)\n",
    "#print(range(20)) ##notice what happens if you try printing without concatenation using 'list()'\n"
   ]
  },
  {
   "cell_type": "code",
   "execution_count": null,
   "metadata": {
    "code_folding": [
     0
    ]
   },
   "outputs": [],
   "source": [
    "#CONTINUE ON YOUR OWN HERE\n",
    "## splitting strings into lists\n",
    "\n",
    "student_names = \"Debora,Miguel,Stacy,Xu\"\n",
    "list_of_names = student_names.split(\",\")\n",
    "print(list_of_names)"
   ]
  },
  {
   "cell_type": "code",
   "execution_count": null,
   "metadata": {
    "code_folding": [
     0
    ]
   },
   "outputs": [],
   "source": [
    "## converting strings to numbers\n",
    "\n",
    "\"\"\"\n",
    "often when we are reading files numbers are encoded as\n",
    "strings. To use these numbers as numbers we need to\n",
    "convert them to floats or integers.\n",
    "\"\"\"\n",
    "\n",
    "string_number = \"5.3\"\n",
    "\n",
    "#print(string_number + 3) # this will fail - you cannot add a string to an integer\n",
    "\n",
    "#print(int(string_number) + 3) # this will fail - 5.3 is not an integer!\n",
    "\n",
    "print(float(string_number) + 3)\n"
   ]
  },
  {
   "cell_type": "code",
   "execution_count": null,
   "metadata": {
    "code_folding": [
     0
    ]
   },
   "outputs": [],
   "source": [
    "#####SECRET CODE - make sure to run this cell, but you don't need to understand it...yet#####\n",
    "\"\"\"\n",
    "In this block I am activating a new function to print out dictionaries \n",
    "in a pretty fashion - it's not part of the lesson\n",
    "\"\"\"\n",
    "import json\n",
    "\n",
    "def dprint(d):\n",
    "    print(json.dumps(d,\n",
    "                     sort_keys=True,\n",
    "                     indent=4))\n",
    "\n"
   ]
  },
  {
   "cell_type": "code",
   "execution_count": null,
   "metadata": {
    "code_folding": [
     0
    ]
   },
   "outputs": [],
   "source": [
    "#1.5 Containers - Dictionaries\n",
    "\n",
    "\"\"\"\n",
    "Dictionaries hold key:value pairs\n",
    "\n",
    "in some languages these are called \"hash tables\"\n",
    "\n",
    "*** NOTE I HAVE DEFINED A FUNCTION CALLED dprint above which \n",
    "allows us to print pretty dictionaries that are easier to look at\n",
    "the print() function works just fine too - we will learn more about\n",
    "functions at a later date so you can ignore that code for now***\n",
    "\n",
    "\"\"\"\n",
    "\n",
    "#dictionaries can store a mixture of different \"types\", also known as keys \n",
    "#all keys have to be of the same type, either string or int, but the values can be a mixture of types\n",
    "\n",
    "student_info_dict = {\"student_ID\": 120120, \n",
    "                     \"first_name\": \"Jane\",\n",
    "                     \"last_name\": \"dough\"} \n",
    "\n",
    "##note here also that you can continue writing on the next line\n",
    "\n",
    "dprint(student_info_dict)\n",
    "print(student_info_dict[\"student_ID\"]) ##extract the value associated with the key 'student_ID'\n",
    "\n",
    "student_info_dict[\"grade\"] = \"A+\" ##add an extra key - 'grade'\n",
    "dprint(student_info_dict)"
   ]
  },
  {
   "cell_type": "code",
   "execution_count": null,
   "metadata": {
    "code_folding": [
     0
    ]
   },
   "outputs": [],
   "source": [
    "## combining lists and dictionaries\n",
    "\n",
    "s1 = {\"student_ID\": 120120, \n",
    "      \"first_name\": \"Jane\",\n",
    "      \"last_name\": \"dough\"}\n",
    "\n",
    "s2 = {\"student_ID\": 2, \n",
    "      \"first_name\": \"Jake\",\n",
    "      \"last_name\": \"Dunn\"}\n",
    "\n",
    "s3 = {\"student_ID\": 3, \n",
    "      \"first_name\": \"Mary\",\n",
    "      \"last_name\": \"Claire\"}\n",
    "\n",
    "students = [s1,s2,s3]\n",
    "\n",
    "dprint(students)\n"
   ]
  },
  {
   "cell_type": "code",
   "execution_count": null,
   "metadata": {
    "code_folding": [
     0
    ]
   },
   "outputs": [],
   "source": [
    "## dictionaries of dictionaries\n",
    "\n",
    "s1 = {\"student_ID\": 120120, \n",
    "      \"first_name\": \"Jane\",\n",
    "      \"last_name\": \"dough\"}\n",
    "\n",
    "s2 = {\"student_ID\": 2, \n",
    "      \"first_name\": \"Jake\",\n",
    "      \"last_name\": \"Dunn\"}\n",
    "\n",
    "s3 = {\"student_ID\": 3, \n",
    "      \"first_name\": \"Mary\",\n",
    "      \"last_name\": \"Claire\"}\n",
    "\n",
    "students_by_id = {\"student1\":s1,    ##assigns dictionaries to keys\n",
    "                  \"student2\":s2,\n",
    "                  \"student3\":s3}\n",
    "\n",
    "dprint(students_by_id)"
   ]
  },
  {
   "cell_type": "code",
   "execution_count": null,
   "metadata": {
    "code_folding": [
     0
    ]
   },
   "outputs": [],
   "source": [
    "## dictionaries of dictionaries\n",
    "\"\"\"\n",
    "dictionaries are very useful ways to store data\n",
    "\"\"\"\n",
    "dprint(students_by_id['student3'])"
   ]
  },
  {
   "cell_type": "markdown",
   "metadata": {},
   "source": [
    "## PAUSE for terminal basics\n",
    "These can also be found in the file 'termFun.txt'"
   ]
  },
  {
   "cell_type": "markdown",
   "metadata": {},
   "source": [
    "### Assignment\n",
    "\n",
    "For questions 1-3, submit a screenshot of the terminal, printing \"Hello World\" through running the python script. Download this notebook (in 'Notebook (.ipynb)' format) with your answers to the rest of the questions in the cells below the question, and then upload the notebook, along with the screenshot, to bCourses. "
   ]
  },
  {
   "cell_type": "markdown",
   "metadata": {},
   "source": [
    "1. Open a new text file, write \"print('Hello World')\", and save as \"first_script.py\"."
   ]
  },
  {
   "cell_type": "markdown",
   "metadata": {},
   "source": [
    "2. Open a terminal window."
   ]
  },
  {
   "cell_type": "markdown",
   "metadata": {},
   "source": [
    "3. Navigate your command prompt to the directory containing the file and write \"python3 first_script.py\"."
   ]
  },
  {
   "cell_type": "markdown",
   "metadata": {},
   "source": [
    "4. Consider the following lists: a = [1,2,3,4,5], b = [5,6,7,8,9]. How could you create the list [1,2,3,4,5,6,7,8,9]? (Notice the '5' is not repeated)."
   ]
  },
  {
   "cell_type": "markdown",
   "metadata": {},
   "source": [
    "5. You have a list of gene names and their IDs: </br>\n",
    "\"FOS1\", 92231 </br>\n",
    "\"JUN\", 2313 </br>\n",
    "\"BERP\", 5641 </br>\n",
    "Given a set of gene IDs, how could you easily pull out which gene names correspond to which IDs?"
   ]
  },
  {
   "cell_type": "code",
   "execution_count": null,
   "metadata": {},
   "outputs": [],
   "source": []
  }
 ],
 "metadata": {
  "history": [
   {
    "code": "## the modulo operator\n\"\"\"\n# the '%' modulo operator gives the remainder \ne.g. 10 % 4 = 2 , the remainder of 10/4 is 2 \nuseful for finding even / odd numbers or counting by \"k\"\n\"\"\"\n\nprint(1%2, 2%2, 3%2, 4%2) \n",
    "id": "f053b69109d7423d885df6ad7b7672d7",
    "idx": 7,
    "time": "2021-01-22T22:37:18.339Z",
    "type": "execution"
   },
   {
    "id": "f053b69109d7423d885df6ad7b7672d7",
    "time": "2021-01-22T22:37:18.406Z",
    "type": "completion"
   },
   {
    "code": "## The += operator\n\n\"\"\"\nThe operation of incrementing a number by some fixed value\ne.g. by 1, is so common that there is a shorthand for it\n\n+=x : increment by x\n\"\"\"\n\nx=2\nprint(x)\nx=x+1\nprint(x)\nx+=1\nprint(x)",
    "id": "3d182a60876b4f4eb705d17efdba674f",
    "idx": 8,
    "time": "2021-01-22T22:38:02.069Z",
    "type": "execution"
   },
   {
    "id": "3d182a60876b4f4eb705d17efdba674f",
    "time": "2021-01-22T22:38:02.140Z",
    "type": "completion"
   },
   {
    "code": "## Variables\n\"\"\"\nvariables can be assigned with the \"=\" operator\n\"\"\"\n\nx=5\ny=3\nz=x*y/2\nprint(z)",
    "id": "251f582b6166454287dac7cbf452afc1",
    "idx": 9,
    "time": "2021-01-22T22:38:31.211Z",
    "type": "execution"
   },
   {
    "id": "251f582b6166454287dac7cbf452afc1",
    "time": "2021-01-22T22:38:31.269Z",
    "type": "completion"
   },
   {
    "code": "## Assignment versus equivalence\n\"\"\"\nit is CRITICAL to understand the difference between \"=\" and \"==\"\n\"\"\"\n\nx=10\nprint(x==5)\n\n#print(x=5) #This will fail!\n\nx=5\nprint(x==5)\nprint(x!=5)",
    "id": "15adcddd784e45598246f6577bbadabd",
    "idx": 10,
    "time": "2021-01-22T22:39:15.921Z",
    "type": "execution"
   },
   {
    "id": "15adcddd784e45598246f6577bbadabd",
    "time": "2021-01-22T22:39:15.979Z",
    "type": "completion"
   },
   {
    "code": "## Boolean logic\n\"\"\"\nsimple boolean logic can be performed using english words\n\"\"\"\n\nt = True\nf = False\n\nprint(type(t)) # \"<class 'bool'>\"\nprint(t and f) # Logical AND; prints \"False\"\nprint(t or f)  # Logical OR; prints \"True\"\nprint(not t)   # Logical NOT; prints \"False\"\n",
    "id": "e3bb42cde2534bf89af5c68e08e697d3",
    "idx": 11,
    "time": "2021-01-22T22:40:29.572Z",
    "type": "execution"
   },
   {
    "id": "e3bb42cde2534bf89af5c68e08e697d3",
    "time": "2021-01-22T22:40:29.630Z",
    "type": "completion"
   },
   {
    "code": "## Strings\n\nx = \"IB120\"\nprint(x)\nprint(len(x))  # String length; prints \"5\"",
    "id": "97d2ddf7f8f74a8f8cda426b501c2d65",
    "idx": 13,
    "time": "2021-01-22T22:43:27.103Z",
    "type": "execution"
   },
   {
    "id": "97d2ddf7f8f74a8f8cda426b501c2d65",
    "time": "2021-01-22T22:43:27.159Z",
    "type": "completion"
   },
   {
    "code": "## String formatting\n\nx=\"IB120\"\nIB201_ranking = 1\n\ncomplex_string = \"{v1} is my number {v2} class!\".format(v1=x, v2=IB201_ranking)\n\nprint(complex_string)\n\n",
    "id": "4f573288a3a2439da2e3b9c6fd1558e0",
    "idx": 14,
    "time": "2021-01-22T22:44:05.449Z",
    "type": "execution"
   },
   {
    "id": "4f573288a3a2439da2e3b9c6fd1558e0",
    "time": "2021-01-22T22:44:05.507Z",
    "type": "completion"
   },
   {
    "code": "## String formatting\n\nx=\"IB120\"\nIB201_ranking = 1\n\ncomplex_string = \"(v1) is my number (v2) class!\".format(v1=x, v2=IB201_ranking)\n\nprint(complex_string)\n\n",
    "id": "4f573288a3a2439da2e3b9c6fd1558e0",
    "idx": 14,
    "time": "2021-01-22T22:47:11.805Z",
    "type": "execution"
   },
   {
    "id": "4f573288a3a2439da2e3b9c6fd1558e0",
    "time": "2021-01-22T22:47:11.874Z",
    "type": "completion"
   },
   {
    "code": "## String formatting\n\nx=\"IB120\"\nIB201_ranking = 1\n\ncomplex_string = \"{v1} is my number {v2} class!\".format(v1=x, v2=IB201_ranking)\n\nprint(complex_string)\n\n",
    "id": "4f573288a3a2439da2e3b9c6fd1558e0",
    "idx": 14,
    "time": "2021-01-22T22:47:30.257Z",
    "type": "execution"
   },
   {
    "id": "4f573288a3a2439da2e3b9c6fd1558e0",
    "time": "2021-01-22T22:47:30.315Z",
    "type": "completion"
   },
   {
    "code": "## String operations\n\"\"\"\nthere are all kinds of operations that can be \nrun on strings that are super helpful\n\nhttps://docs.python.org/3/library/stdtypes.html#string-methods\n\"\"\"\n\ns = \"hello\"\nprint(s.upper())  # Convert a string to uppercase; prints \"HELLO\"\nprint(s.replace('l', '(l)'))  # Replace all instances of one substring with another;\nprint('--TEXT--'.rstrip(\"-\"))  # Strip trailing characters\nprint('--TEXT--'.lstrip(\"-\"))  # Strip leading characters\nprint('--TEXT--'.strip(\"-\"))  # Strip leading and trailing characters\nprint(len('--TEXT--'))  # what is the length of this string?",
    "id": "c1e16516ac9443649162ffd65a00b24c",
    "idx": 15,
    "time": "2021-01-22T22:47:50.742Z",
    "type": "execution"
   },
   {
    "id": "c1e16516ac9443649162ffd65a00b24c",
    "time": "2021-01-22T22:47:50.801Z",
    "type": "completion"
   },
   {
    "code": "## String operations\n\"\"\"\nthere are all kinds of operations that can be \nrun on strings that are super helpful\n\nhttps://docs.python.org/3/library/stdtypes.html#string-methods\n\"\"\"\n\ns = \"hello\"\nprint(s.upper())  # Convert a string to uppercase; prints \"HELLO\"\n  # what is the length of this string?",
    "id": "c1e16516ac9443649162ffd65a00b24c",
    "idx": 15,
    "time": "2021-01-22T22:51:21.345Z",
    "type": "execution"
   },
   {
    "id": "c1e16516ac9443649162ffd65a00b24c",
    "time": "2021-01-22T22:51:21.403Z",
    "type": "completion"
   },
   {
    "code": "## String operations\n\"\"\"\nthere are all kinds of operations that can be \nrun on strings that are super helpful\n\nhttps://docs.python.org/3/library/stdtypes.html#string-methods\n\"\"\"\n\ns = \"hello\"\nprint(s.upper())  # Convert a string to uppercase; prints \"HELLO\"\nprint(s.replace('l', '(l)'))  # Replace all instances of one substring with another;\nprint('--TEXT--'.rstrip(\"-\"))  # Strip trailing characters\nprint('--TEXT--'.lstrip(\"-\"))  # Strip leading characters\nprint('--TEXT--'.strip(\"-\"))  # Strip leading and trailing characters\nprint(len('--TEXT--'))  # what is the length of this string?",
    "id": "c1e16516ac9443649162ffd65a00b24c",
    "idx": 15,
    "time": "2021-01-22T22:51:34.360Z",
    "type": "execution"
   },
   {
    "id": "c1e16516ac9443649162ffd65a00b24c",
    "time": "2021-01-22T22:51:34.417Z",
    "type": "completion"
   },
   {
    "code": "#1.4 Containers - lists\n\"\"\"\nlists are ordered arrays of elements\nin some languages this type is called an array\n\"\"\"\n\nxs = [9, 5, 12] # Create a list\nprint(xs)\n\nxs.append(201)  # add an element to the end of the list\nprint(xs)\n\nelement = xs.pop() # pop an element off the end of a list returning it\nprint(element)\nprint(xs)\n",
    "id": "a7eab1b0872847f78c973ea3827be8b8",
    "idx": 17,
    "time": "2021-01-22T22:56:46.184Z",
    "type": "execution"
   },
   {
    "id": "a7eab1b0872847f78c973ea3827be8b8",
    "time": "2021-01-22T22:56:46.241Z",
    "type": "completion"
   },
   {
    "code": "#1.4 Containers - lists\n\"\"\"\nlists are ordered arrays of elements\nin some languages this type is called an array\n\"\"\"\n\nxs = (9, 5, 12) # Create a list\nprint(xs)\n\nxs.append(201)  # add an element to the end of the list\nprint(xs)\n\nelement = xs.pop() # pop an element off the end of a list returning it\nprint(element)\nprint(xs)\n",
    "id": "a7eab1b0872847f78c973ea3827be8b8",
    "idx": 17,
    "time": "2021-01-22T22:57:30.512Z",
    "type": "execution"
   },
   {
    "id": "a7eab1b0872847f78c973ea3827be8b8",
    "time": "2021-01-22T22:57:30.648Z",
    "type": "completion"
   },
   {
    "code": "#1.4 Containers - lists\n\"\"\"\nlists are ordered arrays of elements\nin some languages this type is called an array\n\"\"\"\n\nxs = [9, 5, 12] # Create a list\nprint(xs)\n\nxs.append(201)  # add an element to the end of the list\nprint(xs)\n\nelement = xs.pop() # pop an element off the end of a list returning it\nprint(element)\nprint(xs)\n",
    "id": "a7eab1b0872847f78c973ea3827be8b8",
    "idx": 17,
    "time": "2021-01-22T22:57:36.695Z",
    "type": "execution"
   },
   {
    "id": "a7eab1b0872847f78c973ea3827be8b8",
    "time": "2021-01-22T22:57:36.750Z",
    "type": "completion"
   },
   {
    "code": "## list subsetting\n\nxs = [5,7,1,9]\nprint(xs[1])   # indexing starts at 0! (UNLIKE R!!!)\n\nprint(xs[-1])  # Negative indices count back from the end of a list\nprint(xs[3])\n",
    "id": "b0d35204f2bd400e8dec2b0e55ca72a9",
    "idx": 18,
    "time": "2021-01-22T22:59:00.159Z",
    "type": "execution"
   },
   {
    "id": "b0d35204f2bd400e8dec2b0e55ca72a9",
    "time": "2021-01-22T22:59:00.218Z",
    "type": "completion"
   },
   {
    "code": "## list subsetting\n\nxs = [5,7,1,9]\nprint(xs[0])   # indexing starts at 0! (UNLIKE R!!!)\n\nprint(xs[-1])  # Negative indices count back from the end of a list\nprint(xs[3])\n",
    "id": "b0d35204f2bd400e8dec2b0e55ca72a9",
    "idx": 18,
    "time": "2021-01-22T22:59:21.513Z",
    "type": "execution"
   },
   {
    "id": "b0d35204f2bd400e8dec2b0e55ca72a9",
    "time": "2021-01-22T22:59:21.590Z",
    "type": "completion"
   },
   {
    "code": "## list subsetting\n\nxs = [5,7,1,9]\nprint(xs[1])   # indexing starts at 0! (UNLIKE R!!!)\n\nprint(xs[-1])  # Negative indices count back from the end of a list\nprint(xs[3])\n",
    "id": "b0d35204f2bd400e8dec2b0e55ca72a9",
    "idx": 18,
    "time": "2021-01-22T22:59:25.894Z",
    "type": "execution"
   },
   {
    "id": "b0d35204f2bd400e8dec2b0e55ca72a9",
    "time": "2021-01-22T22:59:25.952Z",
    "type": "completion"
   },
   {
    "code": "## list slicing\n\nxs = [5, 7, 1, 9, 201]\n\nprint(xs[2:4])        # Get a slice from index 2 to 4 - exclusive! ie, includes elements 2 and 3, not 4\nprint(xs[2:])         # Get a slice from index 2 to the end; \nprint(xs[:2])         # Get a slice from the start to index 2, doesn't include element 2\n\nprint(xs[:-1])        # negative slices, all but last element\nprint(xs[:-2])        # negative slices, all but last two elements\n",
    "id": "2eb6dbe991e34a95a550edaee7c8050a",
    "idx": 19,
    "time": "2021-01-22T22:59:48.820Z",
    "type": "execution"
   },
   {
    "id": "2eb6dbe991e34a95a550edaee7c8050a",
    "time": "2021-01-22T22:59:48.885Z",
    "type": "completion"
   },
   {
    "code": "## super slicing\n\"\"\"\n    array[start:end:step] <-- formatting\n\"\"\"\n\nxs = [5, 7, 1, 9, 201]\n\nprint(xs)\nprint(xs[::])     #the whole list\nprint(xs[::2])    #every second element\nprint(xs[2::2])    #every second element starting at element 1\nprint(xs[::-1])   #reverse the list\nprint(xs[:1:-1]) #reverse the list, and stop at element 1",
    "id": "ba2ac32539054bb18269b6afca237c5e",
    "idx": 20,
    "time": "2021-01-22T23:01:16.246Z",
    "type": "execution"
   },
   {
    "id": "ba2ac32539054bb18269b6afca237c5e",
    "time": "2021-01-22T23:01:16.303Z",
    "type": "completion"
   },
   {
    "code": "## super slicing\n\"\"\"\n    array[start:end:step] <-- formatting\n\"\"\"\n\nxs = [\"a\", \"b\", \"c\", \"d\", \"e\"]\n\nprint(xs)\nprint(xs[::])     #the whole list\nprint(xs[::2])    #every second element\nprint(xs[2::2])    #every second element starting at element 1\nprint(xs[::-1])   #reverse the list\nprint(xs[:1:-1]) #reverse the list, and stop at element 1",
    "id": "ba2ac32539054bb18269b6afca237c5e",
    "idx": 20,
    "time": "2021-01-22T23:03:21.709Z",
    "type": "execution"
   },
   {
    "id": "ba2ac32539054bb18269b6afca237c5e",
    "time": "2021-01-22T23:03:21.941Z",
    "type": "completion"
   },
   {
    "code": "## super slicing\n\"\"\"\n    array[start:end:step] <-- formatting\n\"\"\"\n\nxs = [\"a\", \"b\", \"c\", \"d\", \"e\"]\n\nprint(xs)\nprint(xs[::])     #the whole list\nprint(xs[::2])    #every second element\nprint(xs[2::2])    #every second element starting at element 1\nprint(xs[::-1])   #reverse the list\nprint(xs[:1:-1]) #reverse the list, and stop at element 1\n\nsplit?",
    "id": "ba2ac32539054bb18269b6afca237c5e",
    "idx": 20,
    "time": "2021-01-22T23:05:06.626Z",
    "type": "execution"
   },
   {
    "id": "ba2ac32539054bb18269b6afca237c5e",
    "time": "2021-01-22T23:05:06.685Z",
    "type": "completion"
   },
   {
    "code": "## super slicing\n\"\"\"\n    array[start:end:step] <-- formatting\n\"\"\"\n\nxs = [\"a\", \"b\", \"c\", \"d\", \"e\"]\nx = \"abcde\"\n\nprint(xs)\nprint(xs[::])     #the whole list\nprint(xs[::2])    #every second element\nprint(xs[2::2])    #every second element starting at element 1\nprint(xs[::-1])   #reverse the list\nprint(xs[:1:-1]) #reverse the list, and stop at element 1\n\nx.split?",
    "id": "ba2ac32539054bb18269b6afca237c5e",
    "idx": 20,
    "time": "2021-01-22T23:05:20.786Z",
    "type": "execution"
   },
   {
    "id": "ba2ac32539054bb18269b6afca237c5e",
    "time": "2021-01-22T23:05:20.928Z",
    "type": "completion"
   },
   {
    "code": "## list operations\n\nxs = [5, 7, 1, 9, 201]\n\nprint(19 in xs)       #is 19 in the list?\nprint(9 in xs)        #is 9 in the  list?  \nprint(xs.index(9))    #where is 9?\n\nprint(min(xs))        #the minimum element\nprint(max(xs))        #the maximum element\n",
    "id": "141174238ce24e138be12cceb7fa8f36",
    "idx": 21,
    "time": "2021-01-22T23:06:45.323Z",
    "type": "execution"
   },
   {
    "id": "141174238ce24e138be12cceb7fa8f36",
    "time": "2021-01-22T23:06:45.387Z",
    "type": "completion"
   },
   {
    "code": "## list concatenation\n\nx1 = [1,2,3]\nx2 = [4, 5, 6]\n\njoined_list = x1 + x2\n\nprint(joined_list)\n\nx3 = list(range(20)) ## range() generates a sequence; range(start, stop, step)\nprint(x3)\n#print(range(20)) ##notice what happens if you try printing without concatenation using 'list()'\n",
    "id": "b9cf7614673e4355b75de00d341c94a4",
    "idx": 22,
    "time": "2021-01-22T23:07:45.230Z",
    "type": "execution"
   },
   {
    "id": "b9cf7614673e4355b75de00d341c94a4",
    "time": "2021-01-22T23:07:45.291Z",
    "type": "completion"
   },
   {
    "code": "\"atcgt[::-1]",
    "id": "dbf40004b02f43489ef94eedc5e3d9a3",
    "idx": 22,
    "time": "2021-01-22T23:10:17.128Z",
    "type": "execution"
   },
   {
    "id": "dbf40004b02f43489ef94eedc5e3d9a3",
    "time": "2021-01-22T23:10:17.203Z",
    "type": "completion"
   },
   {
    "code": "x = \"atcgt\"\nprint(x[::-1])",
    "id": "dbf40004b02f43489ef94eedc5e3d9a3",
    "idx": 22,
    "time": "2021-01-22T23:10:34.353Z",
    "type": "execution"
   },
   {
    "id": "dbf40004b02f43489ef94eedc5e3d9a3",
    "time": "2021-01-22T23:10:34.420Z",
    "type": "completion"
   },
   {
    "code": "#CONTINUE ON YOUR OWN HERE\n## splitting strings into lists\n\nstudent_names = \"Debora,Miguel,Stacy,Xu\"\nlist_of_names = student_names.split(\",\")\nprint(list_of_names)",
    "id": "b4973d92904a45888762445ea15c7d7a",
    "idx": 23,
    "time": "2021-01-22T23:13:12.564Z",
    "type": "execution"
   },
   {
    "id": "b4973d92904a45888762445ea15c7d7a",
    "time": "2021-01-22T23:13:12.621Z",
    "type": "completion"
   },
   {
    "code": "## converting strings to numbers\n\n\"\"\"\noften when we are reading files numbers are encoded as\nstrings. To use these numbers as numbers we need to\nconvert them to floats or integers.\n\"\"\"\n\nstring_number = \"5.3\"\n\n#print(string_number + 3) # this will fail - you cannot add a string to an integer\n\n#print(int(string_number) + 3) # this will fail - 5.3 is not an integer!\n\nprint(float(string_number) + 3)\n",
    "id": "7e7d5e77d73641e7aa894846a8cd9a5d",
    "idx": 24,
    "time": "2021-01-22T23:13:16.405Z",
    "type": "execution"
   },
   {
    "id": "7e7d5e77d73641e7aa894846a8cd9a5d",
    "time": "2021-01-22T23:13:16.473Z",
    "type": "completion"
   },
   {
    "code": "#####SECRET CODE - make sure to run this cell, but you don't need to understand it...yet#####\n\"\"\"\nIn this block I am activating a new function to print out dictionaries \nin a pretty fashion - it's not part of the lesson\n\"\"\"\nimport json\n\ndef dprint(d):\n    print(json.dumps(d,\n                     sort_keys=True,\n                     indent=4))\n\n",
    "id": "a3afdccab214498b82c8e1854231a3e1",
    "idx": 25,
    "time": "2021-01-22T23:14:18.765Z",
    "type": "execution"
   },
   {
    "id": "a3afdccab214498b82c8e1854231a3e1",
    "time": "2021-01-22T23:14:18.822Z",
    "type": "completion"
   },
   {
    "code": "#1.5 Containers - Dictionaries\n\n\"\"\"\nDictionaries hold key:value pairs\n\nin some languages these are called \"hash tables\"\n\n*** NOTE I HAVE DEFINED A FUNCTION CALLED dprint above which \nallows us to print pretty dictionaries that are easier to look at\nthe print() function works just fine too - we will learn more about\nfunctions at a later date so you can ignore that code for now***\n\n\"\"\"\n\n#dictionaries can store a mixture of different \"types\", also known as keys \n#all keys have to be of the same type, either string or int, but the values can be a mixture of types\n\nstudent_info_dict = {\"student_ID\": 120120, \n                     \"first_name\": \"Jane\",\n                     \"last_name\": \"dough\"} \n\n##note here also that you can continue writing on the next line\n\ndprint(student_info_dict)\nprint(student_info_dict[\"student_ID\"]) ##extract the value associated with the key 'student_ID'\n\nstudent_info_dict[\"grade\"] = \"A+\" ##add an extra key - 'grade'\ndprint(student_info_dict)",
    "id": "b6c3ec0937ff453e842f4b69eed95288",
    "idx": 26,
    "time": "2021-01-22T23:15:43.728Z",
    "type": "execution"
   },
   {
    "id": "b6c3ec0937ff453e842f4b69eed95288",
    "time": "2021-01-22T23:15:43.784Z",
    "type": "completion"
   },
   {
    "code": "## combining lists and dictionaries\n\ns1 = {\"student_ID\": 120120, \n      \"first_name\": \"Jane\",\n      \"last_name\": \"dough\"}\n\ns2 = {\"student_ID\": 2, \n      \"first_name\": \"Jake\",\n      \"last_name\": \"Dunn\"}\n\ns3 = {\"student_ID\": 3, \n      \"first_name\": \"Mary\",\n      \"last_name\": \"Claire\"}\n\nstudents = [s1,s2,s3]\n\ndprint(students)\n",
    "id": "94d2346b5bb04ff39232bc3a824e72e0",
    "idx": 27,
    "time": "2021-01-22T23:18:04.910Z",
    "type": "execution"
   },
   {
    "id": "94d2346b5bb04ff39232bc3a824e72e0",
    "time": "2021-01-22T23:18:04.967Z",
    "type": "completion"
   },
   {
    "code": "## dictionaries of dictionaries\n\ns1 = {\"student_ID\": 120120, \n      \"first_name\": \"Jane\",\n      \"last_name\": \"dough\"}\n\ns2 = {\"student_ID\": 2, \n      \"first_name\": \"Jake\",\n      \"last_name\": \"Dunn\"}\n\ns3 = {\"student_ID\": 3, \n      \"first_name\": \"Mary\",\n      \"last_name\": \"Claire\"}\n\nstudents_by_id = {\"student1\":s1,    ##assigns dictionaries to keys\n                  \"student2\":s2,\n                  \"student3\":s3}\n\ndprint(students_by_id)",
    "id": "86dd5444046c4bf589500dbc1a989196",
    "idx": 28,
    "time": "2021-01-22T23:18:59.696Z",
    "type": "execution"
   },
   {
    "id": "86dd5444046c4bf589500dbc1a989196",
    "time": "2021-01-22T23:18:59.753Z",
    "type": "completion"
   },
   {
    "code": "## dictionaries of dictionaries\n\"\"\"\ndictionaries are very useful ways to store data\n\"\"\"\ndprint(students_by_id['student3'])",
    "id": "2db40e9f0c4e4dfc8ec021b54444ffc2",
    "idx": 29,
    "time": "2021-01-22T23:20:10.983Z",
    "type": "execution"
   },
   {
    "id": "2db40e9f0c4e4dfc8ec021b54444ffc2",
    "time": "2021-01-22T23:20:11.059Z",
    "type": "completion"
   }
  ],
  "kernelspec": {
   "display_name": "Python 3 (ipykernel)",
   "language": "python",
   "name": "python3"
  },
  "language_info": {
   "codemirror_mode": {
    "name": "ipython",
    "version": 3
   },
   "file_extension": ".py",
   "mimetype": "text/x-python",
   "name": "python",
   "nbconvert_exporter": "python",
   "pygments_lexer": "ipython3",
   "version": "3.9.9"
  }
 },
 "nbformat": 4,
 "nbformat_minor": 4
}
