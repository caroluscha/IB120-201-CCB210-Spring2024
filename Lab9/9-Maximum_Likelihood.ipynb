{
 "cells": [
  {
   "cell_type": "markdown",
   "metadata": {},
   "source": [
    "# Maximum Likelihood"
   ]
  },
  {
   "cell_type": "markdown",
   "metadata": {},
   "source": [
    "Suppose we have a collection of independent random samples of random variables $X_1, X_2, ..., X_n$ from the same probability distribution, each with an associated PDF $p_\\theta(x)$ which depends on some parameter $\\theta$. The joint PDF is $p_\\theta(x_1, x_2, ..., x_n) = p_\\theta(x_1)p_\\theta(x_2)...p_\\theta(x_n)$. "
   ]
  },
  {
   "cell_type": "markdown",
   "metadata": {},
   "source": [
    "$L(\\theta) = p_\\theta(x_1, x_2, ..., x_n)$\n",
    "\n",
    "This is called the **likelihood function**. The Maximum Likelihood Estimator of $\\theta$ (MLE) is the value $\\hat{\\theta}$ that maximizes the likelihood. "
   ]
  },
  {
   "cell_type": "markdown",
   "metadata": {},
   "source": [
    "---\n",
    "##### Some Useful Logarithmic Properties\n",
    "\n",
    "* **Product Rule** $\\ln{(AB)} = \\ln{(A)} + \\ln{(B)}$\n",
    "* **Quotient Rule** $\\ln{(\\frac{A}{B})} = \\ln{(A)} - \\ln{(B)}$\n",
    "* **Power Rule** $\\ln{(A^x)} = x\\ln{(A)}$"
   ]
  },
  {
   "cell_type": "markdown",
   "metadata": {},
   "source": [
    "---\n",
    "#### Examples\n",
    "\n",
    "1. (Single parameter optimization) We have a collection of random samples that are binomially distributed with probability 0.5. Let's pretend we don't know that they have probability $p=0.5$ and want to estimate said parameter. The likelihood function for the binomial distribution can be given by the following: $L(p) = p^x(1-p)^{n-x}$, where $x$ is the total number of successes and $n$ is the total number of samples. "
   ]
  },
  {
   "cell_type": "markdown",
   "metadata": {},
   "source": [
    "**Using `optim()`:**\n",
    "\n",
    "syntax: `optim(par, fn)`\n",
    "\n",
    "arguments: \n",
    "* `par` Initial values for the parameters to be optimized over.\n",
    "* `fn` A function to be minimized, with the first argument being the vector of parameters over which minimization is to take place. It should return a scalar result.\n",
    "\n",
    "output:\n",
    "* `par` The MLE set of parameters found.\n",
    "* `value` The value of `fn` corresponding to `par`.\n",
    "* `counts` The first value in the vector gives the number of calls to `fn`."
   ]
  },
  {
   "cell_type": "code",
   "execution_count": null,
   "metadata": {},
   "outputs": [],
   "source": [
    "# draw 10 binomially-distributed samples with p=0.5\n",
    "\n",
    "data1 <- rbinom(10, 1, 0.5)\n",
    "x <- sum(data1) # number of heads\n",
    "n <- length(data1) # number of samples\n",
    "data1"
   ]
  },
  {
   "cell_type": "code",
   "execution_count": null,
   "metadata": {},
   "outputs": [],
   "source": [
    "# make likelihood function\n",
    "\n",
    "binom_like <- function(p){\n",
    "    L <- (p^x)*((1-p)^(n-x))\n",
    "    return(L)\n",
    "}"
   ]
  },
  {
   "cell_type": "code",
   "execution_count": null,
   "metadata": {},
   "outputs": [],
   "source": [
    "# plot the likelihood function for varying values of p\n",
    "\n",
    "seq_p <- seq(0,1, by=0.01) # create a sequence of numbers from 0 to 1 with breaks of size 0.01\n",
    "seq_y <- c()\n",
    "for(s in seq_p){\n",
    "  seq_y <- append(seq_y, binom_like(s)) # calculate the likelihood for every value in seq_p\n",
    "}\n",
    "\n",
    "# we can see which value gave us the maximum likelihood\n",
    "ind <- which(seq_y == max(seq_y))\n",
    "seq_p[ind]\n",
    "\n",
    "plot(seq_p, seq_y, xlab = \"p\", ylab = \"likelihood\")\n",
    "abline(v=seq_p[ind], col=\"red\", lty = 2)"
   ]
  },
  {
   "cell_type": "code",
   "execution_count": null,
   "metadata": {},
   "outputs": [],
   "source": [
    "# using the optim() function; **NOTE** need to change the sign of the likelihood function\n",
    "\n",
    "binom_like <- function(p){\n",
    "    L <- (p^x)*((1-p)^(n-x))\n",
    "    return(-L)\n",
    "}\n",
    "\n",
    "res1 <- optim(0.9, binom_like)\n",
    "res1"
   ]
  },
  {
   "cell_type": "code",
   "execution_count": null,
   "metadata": {},
   "outputs": [],
   "source": [
    "## an aside of what changing the sign does\n",
    "# plot the likelihood function for varying values of p\n",
    "\n",
    "seq_p <- seq(0,1, by=0.01) # create a sequence of numbers from 0 to 1 with breaks of size 0.01\n",
    "seq_y <- c()\n",
    "for(s in seq_p){\n",
    "  seq_y <- append(seq_y, binom_like(s)) # calculate the likelihood for every value in seq_p\n",
    "}\n",
    "\n",
    "plot(seq_p, seq_y)"
   ]
  },
  {
   "cell_type": "code",
   "execution_count": null,
   "metadata": {},
   "outputs": [],
   "source": [
    "# what happens with different starting values? issue of convergence\n",
    "\n",
    "optim(5, binom_like)"
   ]
  },
  {
   "cell_type": "code",
   "execution_count": null,
   "metadata": {},
   "outputs": [],
   "source": [
    "# draw 1000 binomially-distributed samples with p=0.5\n",
    "\n",
    "data2 <- rbinom(1000, 1, 0.5)\n",
    "x <- sum(data2) # number of heads\n",
    "n <- length(data2) # number of samples\n",
    "x"
   ]
  },
  {
   "cell_type": "code",
   "execution_count": null,
   "metadata": {},
   "outputs": [],
   "source": [
    "# plot the likelihood function for varying values of p\n",
    "\n",
    "binom_like <- function(p){\n",
    "    L <- (p^x)*((1-p)^(n-x))\n",
    "    return(L)\n",
    "}\n",
    "\n",
    "\n",
    "seq_p <- seq(0,1, by=0.01) # create a sequence of numbers from 0 to 1 with breaks of size 0.01\n",
    "seq_y <- c()\n",
    "for(s in seq_p){\n",
    "  seq_y <- append(seq_y, binom_like(s)) # calculate the likelihood for every value in seq_p\n",
    "}\n",
    "\n",
    "ind <- which(seq_y == max(seq_y))\n",
    "seq_p[ind]\n",
    "\n",
    "plot(seq_p, seq_y)\n",
    "abline(v = seq_p[ind], col=\"red\", lty = 2)"
   ]
  },
  {
   "cell_type": "code",
   "execution_count": null,
   "metadata": {},
   "outputs": [],
   "source": [
    "# using the optim() function; **NOTE** need to change the sign of the likelihood function\n",
    "# with more samples, because the likelihood is a product, it becomes nearly impossible to actually maximize\n",
    "\n",
    "binom_like <- function(p){\n",
    "    L <- (p^x)*((1-p)^(n-x))\n",
    "    return(-L)\n",
    "}\n",
    "\n",
    "optim(0.9, binom_like) #even if we change starting value\n"
   ]
  },
  {
   "cell_type": "code",
   "execution_count": null,
   "metadata": {},
   "outputs": [],
   "source": [
    "# create log-likelihood function\n",
    "# always want to take the log of the individual expression components and not the original likelihood function - it\n",
    "# preserves accuracy that would be lost from rounding\n",
    "\n",
    "binom_logLike <- function(p){\n",
    "    logL <- x*log(p)+(n-x)*log(1-p)\n",
    "    return(-logL)\n",
    "}\n",
    "\n",
    "res2 <- optim(0.9, binom_logLike)\n",
    "res2\n",
    "\n"
   ]
  },
  {
   "cell_type": "code",
   "execution_count": null,
   "metadata": {},
   "outputs": [],
   "source": [
    "# changing to a log-scale doesn't affect the MLE\n",
    "\n",
    "seq_p <- seq(0,1, by=0.01) # create a sequence of numbers from 0 to 1 with breaks of size 0.01\n",
    "seq_z <- c()\n",
    "for(s in seq_p){\n",
    "  seq_z <- append(seq_z, -binom_logLike(s)) # calculate the likelihood for every value in seq_p\n",
    "}\n",
    "\n",
    "plot(seq_p, seq_z)\n",
    "ind <- which(seq_z == max(seq_z))\n",
    "seq_z[ind]\n"
   ]
  },
  {
   "cell_type": "code",
   "execution_count": null,
   "metadata": {},
   "outputs": [],
   "source": [
    "# what about the log-likelihood on the original dataset of 20 samples?\n",
    "x <- sum(data1)\n",
    "n <- length(data1)\n",
    "\n",
    "optim(0.9, binom_logLike)"
   ]
  },
  {
   "cell_type": "code",
   "execution_count": null,
   "metadata": {},
   "outputs": [],
   "source": [
    "res1"
   ]
  },
  {
   "cell_type": "markdown",
   "metadata": {},
   "source": [
    "#### Examples\n",
    "\n",
    "2. (Multiple parameter optimization) Suppose we have 10 random samples drawn from a normal distribution, with unknown mean $\\mu$ and variance $\\sigma^2$. The log-likelihood function for the normal distribution is $L(\\mu,\\sigma^2) = -.5n\\ln{(2\\pi)}-.5n\\ln{(\\sigma^2)}-\\frac{1}{2\\sigma^2}\\sum_i(y_i-\\mu)^2$. Find the MLEs for both $\\mu$ and $\\sigma^2$."
   ]
  },
  {
   "cell_type": "code",
   "execution_count": null,
   "metadata": {},
   "outputs": [],
   "source": [
    "data <- rnorm(10, 50, 2)\n",
    "n <- length(data)"
   ]
  },
  {
   "cell_type": "code",
   "execution_count": null,
   "metadata": {},
   "outputs": [],
   "source": [
    "# define the log-likelihood function\n",
    "\n",
    "normal_logLike <- function(theta){\n",
    "  mu <- theta[1]\n",
    "  sigma2 <- theta[2]\n",
    "  \n",
    "  logL <- -.5*n*log(2*pi) -.5*n*log(sigma2) - (1/(2*sigma2))*sum((data-mu)**2)\n",
    "  return(-logL)\n",
    "}"
   ]
  },
  {
   "cell_type": "code",
   "execution_count": null,
   "metadata": {},
   "outputs": [],
   "source": [
    "optim(c(mean(data), var(data)), normal_logLike)\n"
   ]
  },
  {
   "cell_type": "code",
   "execution_count": null,
   "metadata": {},
   "outputs": [],
   "source": [
    "# contour plot the likelihood function for varying values of a, b\n",
    "#library(plotly)\n",
    "\n",
    "mu_seq <- round(seq(min(data), max(data), by=0.01),2)\n",
    "s2_seq <- seq(var(data)-1, var(data)+1, by=0.01)\n",
    "\n",
    "grid_like <- matrix(NA, length(mu_seq),length(s2_seq))\n",
    "for(i in 1:length(mu_seq)){\n",
    "  for(j in 1:length(s2_seq)){\n",
    "    grid_like[i,j] <- normal_logLike(c(mu_seq[i], s2_seq[j]))\n",
    "  }\n",
    "}\n",
    "\n",
    "head(grid_like)"
   ]
  },
  {
   "cell_type": "code",
   "execution_count": null,
   "metadata": {},
   "outputs": [],
   "source": [
    "library(plotly)\n",
    "fig <- plot_ly(z = grid_like, type = 'contour', x = s2_seq, y = mu_seq,colorscale = 'Viridis') #note the axes!\n",
    "\n",
    "fig"
   ]
  },
  {
   "cell_type": "markdown",
   "metadata": {},
   "source": [
    "### Questions"
   ]
  },
  {
   "cell_type": "markdown",
   "metadata": {},
   "source": [
    "1. Suppose the weights of randomly selected American female college students are normally distributed with unknown mean  and standard deviation . A random sample of 10 American female college students yielded the following weights (in pounds):\n",
    "\n",
    "115 122 130 127 149 160 152 138 149 180\n",
    "\n",
    "Using the given sample, find a maximum likelihood estimate of $\\mu$ and $\\sigma^2$."
   ]
  },
  {
   "cell_type": "code",
   "execution_count": null,
   "metadata": {},
   "outputs": [],
   "source": []
  },
  {
   "cell_type": "markdown",
   "metadata": {},
   "source": [
    "2. Suppose that the lifetime of Badger brand light bulbs is modeled by an exponential distribution with (unknown) parameter $\\lambda$. We test 5 bulbs and find they have lifetimes of 2, 3, 1, 3, and 4 years, respectively. What is the MLE for $\\lambda$?"
   ]
  },
  {
   "cell_type": "markdown",
   "metadata": {},
   "source": [
    "Log likelihood function for exponential:\n",
    "$nln(\\lambda)-\\lambda\\sum_{j=1}^nx_j$"
   ]
  },
  {
   "cell_type": "code",
   "execution_count": null,
   "metadata": {},
   "outputs": [],
   "source": []
  },
  {
   "cell_type": "markdown",
   "metadata": {},
   "source": [
    "## Assignment"
   ]
  },
  {
   "cell_type": "markdown",
   "metadata": {},
   "source": [
    "According to the Jukes and Cantor 1969 (JC69) model, the probability that two nucleotides are identical to each other is:\n",
    "\n",
    "$\\frac{1}{4}+\\frac{3}{4}e^{-4\\lambda/3}$\n",
    "\n",
    "and the probability that two nucleotides differ from each other is:\n",
    "\n",
    "$\\frac{1}{4}-\\frac{1}{4}e^{-4\\lambda/3}$\n",
    "\n",
    "So the likelihood function, assuming independence among sites, if $d$ out of $S$ nucleotides differ between the two sequences is:\n",
    "$L(\\lambda) = \\left(\\frac{1}{4}+\\frac{3}{4}e^{-4\\lambda/3}\\right)^{S-d}\\left(\\frac{1}{4}-\\frac{1}{4}e^{-4\\lambda/3}\\right)^d$"
   ]
  },
  {
   "cell_type": "markdown",
   "metadata": {},
   "source": [
    "1. Read in the two sequences using the function provided and calculate the number of pairwise differences $d$ using a loop."
   ]
  },
  {
   "cell_type": "code",
   "execution_count": null,
   "metadata": {},
   "outputs": [],
   "source": [
    "x <- read.table('inputs/hw_09_data.txt',sep = '\\t')\n",
    "seq1 <- strsplit(as.vector(x$V1[2]),split = '')[[1]]\n",
    "seq2 <- strsplit(as.vector(x$V1[3]),split = '')[[1]]\n",
    "\n",
    "S <- 0\n",
    "d <- 0"
   ]
  },
  {
   "cell_type": "markdown",
   "metadata": {},
   "source": [
    "2. Implement a likelihood function based on the JC69 model. The likelihood function is parameterized in terms of $\\lambda$ which is the genetic distance. $\\lambda$ is proportional to the mutation rate and the amount of time the two species have been diverging from each other. The type of genetic distance is fundamental in many phylogenetic studies and other studies comparing DNA sequences.\n",
    "\n",
    "    Plot the log-likelihood function as a function of varying $\\lambda$ values from 0 to 1.  \n"
   ]
  },
  {
   "cell_type": "code",
   "execution_count": null,
   "metadata": {},
   "outputs": [],
   "source": []
  },
  {
   "cell_type": "code",
   "execution_count": null,
   "metadata": {},
   "outputs": [],
   "source": []
  },
  {
   "cell_type": "markdown",
   "metadata": {},
   "source": [
    "3. Create an R function that calculates the logarithm of the likelihood. This function requires $\\lambda$ as an argument. Plot the log-likelihood function as a function of the same varying $\\lambda$ values from 0 to 1. Did changing the scale to a log-scale affect the MLE?"
   ]
  },
  {
   "cell_type": "code",
   "execution_count": null,
   "metadata": {},
   "outputs": [],
   "source": []
  },
  {
   "cell_type": "markdown",
   "metadata": {},
   "source": [
    "4. With a starting value of 0.5, use the `optim()` function in R to optimize the log-likelihood function for $\\lambda$. Does this value match the one observed in the plot?"
   ]
  },
  {
   "cell_type": "code",
   "execution_count": null,
   "metadata": {},
   "outputs": [],
   "source": []
  },
  {
   "cell_type": "markdown",
   "metadata": {},
   "source": [
    "5. Transitions (changes between A and G and between C and T) tend to occur at a higher rate than transversions (all other changes). Calculate the number of transitions $ds$ and the number of transversions $dv$ from the two sequences. The Kimura two-parameter (K2P) model is specified in terms of two parameters $\\alpha$ and $\\beta$. These two parameters can be interpreted as the rate of transitions and transversions per unit time, respectively, multiplied by the total amount of time. The likelihood function under this model is:\n",
    "$L(\\alpha, \\beta) = \\left(\\frac{1}{4}+\\frac{1}{4}e^{-4\\beta}+\\frac{1}{2}e^{-2(\\alpha+\\beta)}\\right)^{S-dv-ds}\\left(\\frac{1}{4}+\\frac{1}{4}e^{-4\\beta}-\\frac{1}{2}e^{-2(\\alpha+\\beta)}\\right)^{ds}\\left(\\frac{1}{4}-\\frac{1}{4}e^{-4\\beta}\\right)^{dv}$.\n",
    "\n",
    "    Make a function in R that calculates the logarithm of this likelihood. It should take a single vector $\\theta$, the first element corresponding to $\\alpha$, and the second $\\beta$. "
   ]
  },
  {
   "cell_type": "code",
   "execution_count": null,
   "metadata": {},
   "outputs": [],
   "source": []
  },
  {
   "cell_type": "markdown",
   "metadata": {},
   "source": [
    "6. Calculate the number of transitions and transversions between the two sequences using some lines of code (`if` statements will be useful - remember `&` is used for 'and' statements, `|` is used for 'or') (Not sure you got all the conditions rights? Hint: what should the transitions and transversions sum up to?). Plot the log-likelihood function for varying $\\alpha$ and $\\beta$ values in a contour plot. Approximately where is the maximum likelihood estimate?"
   ]
  },
  {
   "cell_type": "code",
   "execution_count": null,
   "metadata": {},
   "outputs": [],
   "source": [
    "ds <- 0\n",
    "dv <- 0\n"
   ]
  },
  {
   "cell_type": "code",
   "execution_count": null,
   "metadata": {},
   "outputs": [],
   "source": [
    "library(plotly)\n",
    "a <- seq(0, 1, by=0.01)\n",
    "a <- a[-1] # why do I take out the first element? the log-likelihood function will return -Inf for a = b = 0\n",
    "b <- a\n",
    "\n",
    "grid_like <- matrix(NA, length(a),length(b))\n",
    "# fill in the likelihood grid, similar to how we did in lab\n",
    "\n",
    "# make the contour plot - pay attention to the axes!"
   ]
  },
  {
   "cell_type": "markdown",
   "metadata": {},
   "source": [
    "7. With starting values of 0.5 for both $\\alpha$ and $\\beta$, use the `optim()` function in R to optimize this log-likelihood function for $\\alpha$ and $\\beta$. Does this value match the one observed in the plot?"
   ]
  },
  {
   "cell_type": "code",
   "execution_count": null,
   "metadata": {},
   "outputs": [],
   "source": []
  }
 ],
 "metadata": {
  "kernelspec": {
   "display_name": "R",
   "language": "R",
   "name": "ir"
  },
  "language_info": {
   "codemirror_mode": "r",
   "file_extension": ".r",
   "mimetype": "text/x-r-source",
   "name": "R",
   "pygments_lexer": "r",
   "version": "4.1.2"
  }
 },
 "nbformat": 4,
 "nbformat_minor": 4
}
